{
 "cells": [
  {
   "cell_type": "code",
   "execution_count": 1,
   "metadata": {},
   "outputs": [
    {
     "name": "stderr",
     "output_type": "stream",
     "text": [
      "Using TensorFlow backend.\n"
     ]
    }
   ],
   "source": [
    "from __future__ import print_function\n",
    "import keras\n",
    "from keras.models import Sequential, Model, load_model\n",
    "from keras import backend as K\n",
    "import isolearn.keras as iso\n",
    "\n",
    "import tensorflow as tf\n",
    "\n",
    "import os\n",
    "import pandas as pd\n",
    "\n",
    "import numpy as np\n",
    "\n",
    "import matplotlib.pyplot as plt\n",
    "import matplotlib.cm as cm\n",
    "\n",
    "def logit(x) :\n",
    "    return np.log(x / (1.0 - x))\n",
    "\n",
    "def aparent_single_example_batch(one_hot) :\n",
    "    return [\n",
    "        np.reshape(one_hot, (1, one_hot.shape[0], one_hot.shape[1], 1)),\n",
    "        np.zeros((1, 13)),\n",
    "        np.ones((1, 1))\n",
    "    ]\n"
   ]
  },
  {
   "cell_type": "markdown",
   "metadata": {},
   "source": [
    "<h2>Load the Basic- and APADB-tuned APARENT model</h2>\n",
    "<br/>\n",
    "-- Load the basic APARENT model, which has been trained to predict the isoform abundance and cut profile of a proximal PAS given a fixed background distal PAS (trained on random 3' UTR APA MPRA data).<br/>\n",
    "-- Load the APADB-fitted APARENT model, composed of two siamese APARENT networks which score the proximal and distal PASs. Linear regression of the proximal and distal scores are used to infer the relative APA isoform abundance (fitted on human pooled-tissue APADB data).\n",
    "<br/>"
   ]
  },
  {
   "cell_type": "code",
   "execution_count": 2,
   "metadata": {},
   "outputs": [
    {
     "name": "stderr",
     "output_type": "stream",
     "text": [
      "/home/jlinder2/anaconda3/envs/tensorflow/lib/python3.6/site-packages/keras/engine/saving.py:292: UserWarning: No training configuration found in save file: the model was *not* compiled. Compile it manually.\n",
      "  warnings.warn('No training configuration found in save file: '\n"
     ]
    }
   ],
   "source": [
    "#Load legacy APARENT model\n",
    "\n",
    "save_dir = os.path.join(os.getcwd(), '../saved_models/legacy_models')\n",
    "model_name = 'aparent_theano_legacy_30_31_34_pasaligned_padded.h5'\n",
    "model_path = os.path.join(save_dir, model_name)\n",
    "\n",
    "aparent_model = load_model(model_path)\n"
   ]
  },
  {
   "cell_type": "markdown",
   "metadata": {},
   "source": [
    "<h2>Example 1: PSMC6 Gene APA prediction</h2>\n",
    "<br/>\n",
    "-- First predict the non-normalized isoform score of each PAS sequence (score is relative to the average random MPRA distal bias).<br/>\n",
    "-- Then predict the relative APA isoform abundance using the APADB-fitted model.<br/>"
   ]
  },
  {
   "cell_type": "code",
   "execution_count": 3,
   "metadata": {},
   "outputs": [
    {
     "ename": "ValueError",
     "evalue": "Error when checking model input: the list of Numpy arrays that you are passing to your model is not the size the model expected. Expected to see 5 array(s), but instead got the following list of 3 arrays: [array([[[[1.],\n         [0.],\n         [0.],\n         [0.]],\n\n        [[0.],\n         [0.],\n         [1.],\n         [0.]],\n\n        [[1.],\n         [0.],\n         [0.],\n         [0.]],\n\n        [[0.]...",
     "output_type": "error",
     "traceback": [
      "\u001b[0;31m---------------------------------------------------------------------------\u001b[0m",
      "\u001b[0;31mValueError\u001b[0m                                Traceback (most recent call last)",
      "\u001b[0;32m<ipython-input-3-2657659ce87c>\u001b[0m in \u001b[0;36m<module>\u001b[0;34m()\u001b[0m\n\u001b[1;32m     14\u001b[0m \u001b[0;34m\u001b[0m\u001b[0m\n\u001b[1;32m     15\u001b[0m \u001b[0;31m#Predict with base APARENT model\u001b[0m\u001b[0;34m\u001b[0m\u001b[0;34m\u001b[0m\u001b[0;34m\u001b[0m\u001b[0m\n\u001b[0;32m---> 16\u001b[0;31m \u001b[0miso_pred_prox\u001b[0m\u001b[0;34m,\u001b[0m \u001b[0mcut_pred_prox\u001b[0m \u001b[0;34m=\u001b[0m \u001b[0maparent_model\u001b[0m\u001b[0;34m.\u001b[0m\u001b[0mpredict\u001b[0m\u001b[0;34m(\u001b[0m\u001b[0mx\u001b[0m\u001b[0;34m=\u001b[0m\u001b[0maparent_single_example_batch\u001b[0m\u001b[0;34m(\u001b[0m\u001b[0monehot_prox\u001b[0m\u001b[0;34m)\u001b[0m\u001b[0;34m)\u001b[0m\u001b[0;34m\u001b[0m\u001b[0;34m\u001b[0m\u001b[0m\n\u001b[0m\u001b[1;32m     17\u001b[0m \u001b[0miso_pred_dist\u001b[0m\u001b[0;34m,\u001b[0m \u001b[0mcut_pred_dist\u001b[0m \u001b[0;34m=\u001b[0m \u001b[0maparent_model\u001b[0m\u001b[0;34m.\u001b[0m\u001b[0mpredict\u001b[0m\u001b[0;34m(\u001b[0m\u001b[0mx\u001b[0m\u001b[0;34m=\u001b[0m\u001b[0maparent_single_example_batch\u001b[0m\u001b[0;34m(\u001b[0m\u001b[0monehot_dist\u001b[0m\u001b[0;34m)\u001b[0m\u001b[0;34m)\u001b[0m\u001b[0;34m\u001b[0m\u001b[0;34m\u001b[0m\u001b[0m\n\u001b[1;32m     18\u001b[0m \u001b[0;34m\u001b[0m\u001b[0m\n",
      "\u001b[0;32m~/anaconda3/envs/tensorflow/lib/python3.6/site-packages/keras/engine/training.py\u001b[0m in \u001b[0;36mpredict\u001b[0;34m(self, x, batch_size, verbose, steps)\u001b[0m\n\u001b[1;32m   1147\u001b[0m                              'argument.')\n\u001b[1;32m   1148\u001b[0m         \u001b[0;31m# Validate user data.\u001b[0m\u001b[0;34m\u001b[0m\u001b[0;34m\u001b[0m\u001b[0;34m\u001b[0m\u001b[0m\n\u001b[0;32m-> 1149\u001b[0;31m         \u001b[0mx\u001b[0m\u001b[0;34m,\u001b[0m \u001b[0m_\u001b[0m\u001b[0;34m,\u001b[0m \u001b[0m_\u001b[0m \u001b[0;34m=\u001b[0m \u001b[0mself\u001b[0m\u001b[0;34m.\u001b[0m\u001b[0m_standardize_user_data\u001b[0m\u001b[0;34m(\u001b[0m\u001b[0mx\u001b[0m\u001b[0;34m)\u001b[0m\u001b[0;34m\u001b[0m\u001b[0;34m\u001b[0m\u001b[0m\n\u001b[0m\u001b[1;32m   1150\u001b[0m         \u001b[0;32mif\u001b[0m \u001b[0mself\u001b[0m\u001b[0;34m.\u001b[0m\u001b[0mstateful\u001b[0m\u001b[0;34m:\u001b[0m\u001b[0;34m\u001b[0m\u001b[0;34m\u001b[0m\u001b[0m\n\u001b[1;32m   1151\u001b[0m             \u001b[0;32mif\u001b[0m \u001b[0mx\u001b[0m\u001b[0;34m[\u001b[0m\u001b[0;36m0\u001b[0m\u001b[0;34m]\u001b[0m\u001b[0;34m.\u001b[0m\u001b[0mshape\u001b[0m\u001b[0;34m[\u001b[0m\u001b[0;36m0\u001b[0m\u001b[0;34m]\u001b[0m \u001b[0;34m>\u001b[0m \u001b[0mbatch_size\u001b[0m \u001b[0;32mand\u001b[0m \u001b[0mx\u001b[0m\u001b[0;34m[\u001b[0m\u001b[0;36m0\u001b[0m\u001b[0;34m]\u001b[0m\u001b[0;34m.\u001b[0m\u001b[0mshape\u001b[0m\u001b[0;34m[\u001b[0m\u001b[0;36m0\u001b[0m\u001b[0;34m]\u001b[0m \u001b[0;34m%\u001b[0m \u001b[0mbatch_size\u001b[0m \u001b[0;34m!=\u001b[0m \u001b[0;36m0\u001b[0m\u001b[0;34m:\u001b[0m\u001b[0;34m\u001b[0m\u001b[0;34m\u001b[0m\u001b[0m\n",
      "\u001b[0;32m~/anaconda3/envs/tensorflow/lib/python3.6/site-packages/keras/engine/training.py\u001b[0m in \u001b[0;36m_standardize_user_data\u001b[0;34m(self, x, y, sample_weight, class_weight, check_array_lengths, batch_size)\u001b[0m\n\u001b[1;32m    749\u001b[0m             \u001b[0mfeed_input_shapes\u001b[0m\u001b[0;34m,\u001b[0m\u001b[0;34m\u001b[0m\u001b[0;34m\u001b[0m\u001b[0m\n\u001b[1;32m    750\u001b[0m             \u001b[0mcheck_batch_axis\u001b[0m\u001b[0;34m=\u001b[0m\u001b[0;32mFalse\u001b[0m\u001b[0;34m,\u001b[0m  \u001b[0;31m# Don't enforce the batch size.\u001b[0m\u001b[0;34m\u001b[0m\u001b[0;34m\u001b[0m\u001b[0m\n\u001b[0;32m--> 751\u001b[0;31m             exception_prefix='input')\n\u001b[0m\u001b[1;32m    752\u001b[0m \u001b[0;34m\u001b[0m\u001b[0m\n\u001b[1;32m    753\u001b[0m         \u001b[0;32mif\u001b[0m \u001b[0my\u001b[0m \u001b[0;32mis\u001b[0m \u001b[0;32mnot\u001b[0m \u001b[0;32mNone\u001b[0m\u001b[0;34m:\u001b[0m\u001b[0;34m\u001b[0m\u001b[0;34m\u001b[0m\u001b[0m\n",
      "\u001b[0;32m~/anaconda3/envs/tensorflow/lib/python3.6/site-packages/keras/engine/training_utils.py\u001b[0m in \u001b[0;36mstandardize_input_data\u001b[0;34m(data, names, shapes, check_batch_axis, exception_prefix)\u001b[0m\n\u001b[1;32m    100\u001b[0m                 \u001b[0;34m'Expected to see '\u001b[0m \u001b[0;34m+\u001b[0m \u001b[0mstr\u001b[0m\u001b[0;34m(\u001b[0m\u001b[0mlen\u001b[0m\u001b[0;34m(\u001b[0m\u001b[0mnames\u001b[0m\u001b[0;34m)\u001b[0m\u001b[0;34m)\u001b[0m \u001b[0;34m+\u001b[0m \u001b[0;34m' array(s), '\u001b[0m\u001b[0;34m\u001b[0m\u001b[0;34m\u001b[0m\u001b[0m\n\u001b[1;32m    101\u001b[0m                 \u001b[0;34m'but instead got the following list of '\u001b[0m \u001b[0;34m+\u001b[0m\u001b[0;34m\u001b[0m\u001b[0;34m\u001b[0m\u001b[0m\n\u001b[0;32m--> 102\u001b[0;31m                 str(len(data)) + ' arrays: ' + str(data)[:200] + '...')\n\u001b[0m\u001b[1;32m    103\u001b[0m         \u001b[0;32melif\u001b[0m \u001b[0mlen\u001b[0m\u001b[0;34m(\u001b[0m\u001b[0mnames\u001b[0m\u001b[0;34m)\u001b[0m \u001b[0;34m>\u001b[0m \u001b[0;36m1\u001b[0m\u001b[0;34m:\u001b[0m\u001b[0;34m\u001b[0m\u001b[0;34m\u001b[0m\u001b[0m\n\u001b[1;32m    104\u001b[0m             raise ValueError(\n",
      "\u001b[0;31mValueError\u001b[0m: Error when checking model input: the list of Numpy arrays that you are passing to your model is not the size the model expected. Expected to see 5 array(s), but instead got the following list of 3 arrays: [array([[[[1.],\n         [0.],\n         [0.],\n         [0.]],\n\n        [[0.],\n         [0.],\n         [1.],\n         [0.]],\n\n        [[1.],\n         [0.],\n         [0.],\n         [0.]],\n\n        [[0.]..."
     ]
    }
   ],
   "source": [
    "#Example APA sites from APADB (gene = PSMC6)\n",
    "\n",
    "#Proximal and Distal PAS Sequences\n",
    "seq_prox = 'AGATAGTGGTATAAGAAAGCATTTCTTATGACTTATTTTGTATCATTTGTTTTCCTCATCTAAAAAGTTGAATAAAATCTGTTTGATTCAGTTCTCCTACATATATATTCTTGTCTTTTCTGAGTATATTTACTGTGGTCCTTTAGGTTCTTTAGCAAGTAAACTATTTGATAACCCAGATGGATTGTGGATTTTTGAATATTAT'\n",
    "seq_dist = 'TGGATTGTGGATTTTTGAATATTATTTTAAAATAGTACACATACTTAATGTTCATAAGATCATCTTCTTAAATAAAACATGGATGTGTGGGTATGTCTGTACTCCTCCTTTCAGAAAGTGTTTACATATTCTTCATCTACTGTGATTAAGCTCATTGTTGGTTAATTGAAAATATACATGCACATCCATAACTTTTTAAAGAGTA'\n",
    "\n",
    "#Proximal and Distal cut intervals within each sequence defining the isoforms\n",
    "prox_cut_start, prox_cut_end = 80, 105\n",
    "dist_cut_start, dist_cut_end = 80, 105\n",
    "\n",
    "#One-hot encode the sequences\n",
    "onehot_encoder = iso.OneHotEncoder(len(seq_prox))\n",
    "onehot_prox, onehot_dist = onehot_encoder(seq_prox), onehot_encoder(seq_dist)\n",
    "\n",
    "#Predict with base APARENT model\n",
    "iso_pred_prox, cut_pred_prox = aparent_model.predict(x=aparent_single_example_batch(onehot_prox))\n",
    "iso_pred_dist, cut_pred_dist = aparent_model.predict(x=aparent_single_example_batch(onehot_dist))\n",
    "\n",
    "print(\"Non-normalized proximal isoform logit = \" + str(logit(iso_pred_prox[0, 0])))\n",
    "print(\"Non-normalized distal isoform logit = \" + str(logit(iso_pred_dist[0, 0])))\n",
    "print(\"\")\n",
    "\n",
    "print(\"Non-normalized proximal sum-cut logit = \" + str(logit(np.sum(cut_pred_prox[0, prox_cut_start:prox_cut_end]))))\n",
    "print(\"Non-normalized distal sum-cut logit = \" + str(logit(np.sum(cut_pred_dist[0, dist_cut_start:dist_cut_end]))))\n",
    "print(\"\")\n",
    "\n",
    "\n",
    "f = plt.figure(figsize=(8, 3))\n",
    "plt.plot(np.arange(185), np.ravel(cut_pred_prox)[:-1], linewidth=2, color='black')\n",
    "plt.title(\"Proximal cut profile\", fontsize=16)\n",
    "plt.xticks([50, 56], ['CSE', 'CSE+6'], fontsize=14, rotation=45)\n",
    "plt.yticks(fontsize=14)\n",
    "plt.tight_layout()\n",
    "plt.show()\n",
    "\n",
    "f = plt.figure(figsize=(8, 3))\n",
    "plt.plot(np.arange(185), np.ravel(cut_pred_dist)[:-1], linewidth=2, color='black')\n",
    "plt.title(\"Distal cut profile\", fontsize=16)\n",
    "plt.xticks([50, 56], ['CSE', 'CSE+6'], fontsize=14, rotation=45)\n",
    "plt.yticks(fontsize=14)\n",
    "plt.tight_layout()\n",
    "plt.show()\n",
    "\n"
   ]
  },
  {
   "cell_type": "markdown",
   "metadata": {},
   "source": [
    "<h2>Example 2: KTN1 Gene APA prediction</h2>\n",
    "<br/>\n",
    "-- First predict the non-normalized isoform score of each PAS sequence (score is relative to the average random MPRA distal bias).<br/>\n",
    "-- Then predict the relative APA isoform abundance using the APADB-fitted model.<br/>\n",
    "<br/>"
   ]
  },
  {
   "cell_type": "code",
   "execution_count": 23,
   "metadata": {},
   "outputs": [
    {
     "name": "stdout",
     "output_type": "stream",
     "text": [
      "Non-normalized proximal isoform logit = 0.7841088179122147\n",
      "Non-normalized distal isoform logit = 6.434604787990351\n",
      "\n",
      "Non-normalized proximal sum-cut logit = 0.30727986289045484\n",
      "Non-normalized distal sum-cut logit = 5.203675256723496\n",
      "\n"
     ]
    },
    {
     "data": {
      "image/png": "[encoded data removed]",
      "text/plain": [
       "<Figure size 576x216 with 1 Axes>"
      ]
     },
     "metadata": {},
     "output_type": "display_data"
    },
    {
     "data": {
      "image/png": "[encoded data removed]",
      "text/plain": [
       "<Figure size 576x216 with 1 Axes>"
      ]
     },
     "metadata": {},
     "output_type": "display_data"
    }
   ],
   "source": [
    "#Example APA sites from APADB (gene = KTN1)\n",
    "\n",
    "seq_prox = 'AAAACTGTTTGAATAATTAGACCTTTACATTCCTGAAGATAAACATGTAATCTTTTATCTTATTTTGCTCAATAAAATTGTTCAGAAGATCAAAGTGGTAAAGACAATGTAAAATTTAACATTTTAATACTGATGTTGTACACTGTTTTACTTAACATTTTGGGAAGTAACTGCCTCTGACTTCAACTCAAGAAAACACTTTTTTX'[21:]\n",
    "seq_dist = 'GCCTCTGACTTCAACTCAAGAAAACACTTTTTTGTTGCTAATGTAATCGGTTTTTGTAATGGCGTCAGCAAATAAAAGGATGCTTATTATTCAAACTTGACTTGTTCTAATTTTTATTGAGCTTTAACAGATTTCATTAGTAGTACAGATCATTGTAATTTAGAATACAGCTATTAATTGGCAACCATTCAACAAGATAGGTTTAX'[21:]\n",
    "\n",
    "#Proximal and Distal cut intervals within each sequence defining the isoforms\n",
    "prox_cut_start, prox_cut_end = 60, 85\n",
    "dist_cut_start, dist_cut_end = 60, 85\n",
    "\n",
    "#One-hot encode the sequences\n",
    "onehot_encoder = iso.OneHotEncoder(len(seq_prox))\n",
    "onehot_prox, onehot_dist = onehot_encoder(seq_prox), onehot_encoder(seq_dist)\n",
    "\n",
    "#Predict with base APARENT model\n",
    "iso_pred_prox, cut_pred_prox = aparent_model.predict(x=aparent_single_example_batch(onehot_prox))\n",
    "iso_pred_dist, cut_pred_dist = aparent_model.predict(x=aparent_single_example_batch(onehot_dist))\n",
    "\n",
    "print(\"Non-normalized proximal isoform logit = \" + str(logit(np.sum(iso_pred_prox[0, 0]))))\n",
    "print(\"Non-normalized distal isoform logit = \" + str(logit(np.sum(iso_pred_dist[0, 0]))))\n",
    "print(\"\")\n",
    "\n",
    "print(\"Non-normalized proximal sum-cut logit = \" + str(logit(np.sum(cut_pred_prox[0, prox_cut_start:prox_cut_end]))))\n",
    "print(\"Non-normalized distal sum-cut logit = \" + str(logit(np.sum(cut_pred_dist[0, dist_cut_start:dist_cut_end]))))\n",
    "print(\"\")\n",
    "\n",
    "\n",
    "f = plt.figure(figsize=(8, 3))\n",
    "plt.plot(np.arange(185), np.ravel(cut_pred_prox)[:-1], linewidth=2, color='black')\n",
    "plt.title(\"Normalized proximal cut profile\", fontsize=16)\n",
    "plt.xticks([50, 56], ['CSE', 'CSE+6'], fontsize=14, rotation=45)\n",
    "plt.yticks(fontsize=14)\n",
    "plt.tight_layout()\n",
    "plt.show()\n",
    "\n",
    "f = plt.figure(figsize=(8, 3))\n",
    "plt.plot(np.arange(185), np.ravel(cut_pred_dist)[:-1], linewidth=2, color='black')\n",
    "plt.title(\"Normalized distal cut profile\", fontsize=16)\n",
    "plt.xticks([50, 56], ['CSE', 'CSE+6'], fontsize=14, rotation=45)\n",
    "plt.yticks(fontsize=14)\n",
    "plt.tight_layout()\n",
    "plt.show()\n"
   ]
  },
  {
   "cell_type": "code",
   "execution_count": null,
   "metadata": {},
   "outputs": [],
   "source": []
  }
 ],
 "metadata": {
  "kernelspec": {
   "display_name": "Python [conda env:tensorflow]",
   "language": "python",
   "name": "conda-env-tensorflow-py"
  },
  "language_info": {
   "codemirror_mode": {
    "name": "ipython",
    "version": 3
   },
   "file_extension": ".py",
   "mimetype": "text/x-python",
   "name": "python",
   "nbconvert_exporter": "python",
   "pygments_lexer": "ipython3",
   "version": "3.6.8"
  },
  "varInspector": {
   "cols": {
    "lenName": 16,
    "lenType": 16,
    "lenVar": 40
   },
   "kernels_config": {
    "python": {
     "delete_cmd_postfix": "",
     "delete_cmd_prefix": "del ",
     "library": "var_list.py",
     "varRefreshCmd": "print(var_dic_list())"
    },
    "r": {
     "delete_cmd_postfix": ") ",
     "delete_cmd_prefix": "rm(",
     "library": "var_list.r",
     "varRefreshCmd": "cat(var_dic_list()) "
    }
   },
   "types_to_exclude": [
    "module",
    "function",
    "builtin_function_or_method",
    "instance",
    "_Feature"
   ],
   "window_display": false
  }
 },
 "nbformat": 4,
 "nbformat_minor": 2
}
