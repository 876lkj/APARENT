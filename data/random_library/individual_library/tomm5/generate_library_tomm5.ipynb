{
 "cells": [
  {
   "cell_type": "code",
   "execution_count": 1,
   "metadata": {},
   "outputs": [],
   "source": [
    "import pandas as pd\n",
    "import scipy\n",
    "import numpy as np\n",
    "import scipy.sparse as sp\n",
    "import scipy.io as spio\n",
    "\n",
    "import operator\n",
    "import matplotlib.pyplot as plt\n",
    "import regex as re\n",
    "\n",
    "def plot_cut_2mers(datafr, cut_mat) :\n",
    "    cut_mer2 = {}\n",
    "\n",
    "    seqs = list(datafr['seq'].values)\n",
    "    seqs = np.array(seqs, dtype=np.object)\n",
    "\n",
    "    total_count = np.array(datafr['total_count'])\n",
    "\n",
    "    cx = sp.coo_matrix(cut_mat)\n",
    "\n",
    "    for i,j,v in zip(cx.row, cx.col, cx.data) :\n",
    "        seq = seqs[i]\n",
    "\n",
    "        mer2 = seq[j-1:j+1]\n",
    "        if mer2 not in cut_mer2 :\n",
    "            cut_mer2[mer2] = 0\n",
    "        cut_mer2[mer2] += v\n",
    "\n",
    "    cut_mer2_sorted = sorted(cut_mer2.items(), key=operator.itemgetter(1))\n",
    "\n",
    "    mer2_list = []\n",
    "    mer2_vals = []\n",
    "    for i in range(0, len(cut_mer2_sorted)) :\n",
    "        mer2_list.append(cut_mer2_sorted[i][0])\n",
    "        mer2_vals.append(cut_mer2_sorted[i][1])\n",
    "\n",
    "    f = plt.figure(figsize=(6, 4))\n",
    "\n",
    "    plt.bar(mer2_list, mer2_vals, color='black')\n",
    "\n",
    "    plt.title('Proximal cleavage dinuc.', fontsize=14)\n",
    "    plt.xlabel('Dinucleotide', fontsize=14)\n",
    "    plt.ylabel('Read count', fontsize=14)\n",
    "\n",
    "    plt.xticks(fontsize=14, rotation=45)\n",
    "    plt.yticks(fontsize=14)\n",
    "\n",
    "    plt.tight_layout()\n",
    "    plt.show()"
   ]
  },
  {
   "cell_type": "code",
   "execution_count": 2,
   "metadata": {},
   "outputs": [],
   "source": [
    "library_name = 'tomm5'\n",
    "library_version = 'unfiltered'\n",
    "\n",
    "cut_matrix_name = 'proximal_cut'#'proximal_cut_prefixed'#"
   ]
  },
  {
   "cell_type": "code",
   "execution_count": 3,
   "metadata": {},
   "outputs": [],
   "source": [
    "raw_data_name = 'tomm5_readmatch_hamming1_umimatch_hamming1'\n",
    "data = pd.read_csv(raw_data_name + '.csv', sep=',').reset_index(drop=True)"
   ]
  },
  {
   "cell_type": "code",
   "execution_count": 4,
   "metadata": {},
   "outputs": [],
   "source": [
    "emitted_proximal_count = []\n",
    "emitted_distal_count = []\n",
    "emitted_total_count = []\n",
    "emitted_seq = []\n",
    "emitted_mask = []\n",
    "emitted_lib = []\n",
    "emitted_lib_index = []\n",
    "emitted_sublib = []\n",
    "emitted_sublib_index = []\n",
    "\n",
    "proximal_cuts = sp.lil_matrix((len(data), 206)) #PAS CSE starts at 60\n",
    "\n",
    "up_constant = 'XXXXXXXXXXXXXXXXXXXXXXXXXXXXXXXXXXXXXXXXXXXXXXXXXXXXXXXXXXXXXXXXXXXXXXXXXXXXXXXXXXXXXXXXXXXXXXXXXXXXXXXXXXXXXXXXXXXXXXXXXXXXAATGATACGGCGACCACCGAGATCTACACACACTCTTTCCCTACACGACGCTCTTCCGATCTXXXXXXXXXXXXGGTCCTGCTGGAGTTCGTGACCGCCGCCGGGATCACTCTCGGCATGGACGAGCTGTACAAGGACTGATAGTAAGGCCCATTACCTGCGGCCGCAATTCTGCT'\n",
    "dn_constant = 'ACCCTTATCCCTGTGACGTTTGGCCTCTGACAATACTGGTATAATTGTAAATAATGTCAAACTCCGTTTTCTAGCAAGTATTAAGGGAGCTGTGTCTGAAATGGCACTGTCTTGTCAGTCATTTGCGGCCGCCTGTTTACCTTTTTCTTCTGCCCAGAGTGTATTTGTGAAGAGTCTCTTATATTATGTTTTGTGGAAATCAGCACACAACCACAATGACATTTAAGCACAGGATCATTATTAGTCTATGTTTTTAATAAACATATCAATTAAGAAAAAAAAAAAAAAAAAAAAGATCGG'\n",
    "\n",
    "up_constant_dataframe = up_constant[-24:]\n",
    "up_constant_metadata = up_constant[-24 - 190:-24]\n",
    "\n",
    "dn_constant_dataframe = dn_constant[:89]\n",
    "dn_constant_metadata = dn_constant[89:89 + 120]"
   ]
  },
  {
   "cell_type": "code",
   "execution_count": 5,
   "metadata": {},
   "outputs": [],
   "source": [
    "lib_up_variant_a = re.compile(r\"([ACGTN]{20}CTGGTAACTGACCTTCAAAG){s<=3}\")\n",
    "lib_up_variant_b = re.compile(r\"(TGTTAAGAAC[ACGTN]{20}ACCTTCAAAG){s<=3}\")\n",
    "lib_up_variant_c = re.compile(r\"(TGTTAAGAACAAGTTTGGCT[ACGTN]{20}){s<=3}\")\n",
    "lib_up_variant_d = re.compile(r\"(TGTTAAGAAC[ACGTN]{10}CTGGTAACTGACCTTCAAAG){s<=1}\")\n",
    "lib_up_variant_e = re.compile(r\"(TGTTAAGAACAAGTT[ACGTN]{10}AACTGACCTTCAAAG){s<=1}\")\n",
    "lib_up_variant_f = re.compile(r\"(TGTTAAGAACAAGTTTGGCT[ACGTN]{10}ACCTTCAAAG){s<=1}\")\n",
    "\n",
    "lib_dn_variant_a = re.compile(r\"(GATGTCTCGTGATCTGGTGT){s<=1}\")\n",
    "lib_dn_variant_b = re.compile(r\"....................\")\n",
    "\n",
    "\n",
    "libs = [\n",
    "    ['tomm5_up_c15n10c15_dn_c20', lib_up_variant_e, lib_dn_variant_a, [[15, 25], [0, 0]], [], [], [], []],\n",
    "    ['tomm5_up_c10n10c20_dn_c20', lib_up_variant_d, lib_dn_variant_a, [[10, 20], [0, 0]], [], [], [], []],\n",
    "    ['tomm5_up_n20c20_dn_c20', lib_up_variant_a, lib_dn_variant_a, [[0, 20], [0, 0]], [], [], [], []],\n",
    "    ['tomm5_up_c20n10c10_dn_c20', lib_up_variant_f, lib_dn_variant_a, [[20, 30], [0, 0]], [], [], [], []],\n",
    "    ['tomm5_up_c10n20c10_dn_c20', lib_up_variant_b, lib_dn_variant_a, [[10, 30], [0, 0]], [], [], [], []],\n",
    "    ['tomm5_up_c20n20_dn_c20', lib_up_variant_c, lib_dn_variant_a, [[20, 40], [0, 0]], [], [], [], []],\n",
    "    ['tomm5_up_c15n10c15_dn_n20', lib_up_variant_e, lib_dn_variant_b, [[15, 25], [0, 20]], [], [], [], []],\n",
    "    ['tomm5_up_c10n10c20_dn_n20', lib_up_variant_d, lib_dn_variant_b, [[10, 20], [0, 20]], [], [], [], []],\n",
    "    ['tomm5_up_n20c20_dn_n20', lib_up_variant_a, lib_dn_variant_b, [[0, 20], [0, 20]], [], [], [], []],\n",
    "    ['tomm5_up_c20n10c10_dn_n20', lib_up_variant_f, lib_dn_variant_b, [[20, 30], [0, 20]], [], [], [], []],\n",
    "    ['tomm5_up_c10n20c10_dn_n20', lib_up_variant_b, lib_dn_variant_b, [[10, 30], [0, 20]], [], [], [], []],\n",
    "    ['tomm5_up_c20n20_dn_n20', lib_up_variant_c, lib_dn_variant_b, [[20, 40], [0, 20]], [], [], [], []]\n",
    "]"
   ]
  },
  {
   "cell_type": "code",
   "execution_count": 6,
   "metadata": {},
   "outputs": [],
   "source": [
    "\n",
    "#Store library meta data\n",
    "\n",
    "df_metadata = pd.DataFrame(\n",
    "    {\n",
    "        'library' : [lib[0] for lib in libs],\n",
    "        'library_index' : [i for i in range(len(libs))],\n",
    "        'sublibrary' : [lib[0] for lib in libs],\n",
    "        'sublibrary_index' : [i for i in range(len(libs))],\n",
    "        'upstream_padding' : [up_constant_metadata for i in range(len(libs))],\n",
    "        'downstream_padding' : [dn_constant_metadata for i in range(len(libs))]\n",
    "    }\n",
    ")\n",
    "\n",
    "df_metadata = df_metadata[['library', 'library_index', 'sublibrary', 'sublibrary_index', 'upstream_padding', 'downstream_padding']]\n",
    "\n",
    "df_metadata.to_csv(library_name + '_metadata.csv', header=True, index=False, sep=',')\n"
   ]
  },
  {
   "cell_type": "code",
   "execution_count": 7,
   "metadata": {},
   "outputs": [
    {
     "name": "stdout",
     "output_type": "stream",
     "text": [
      "Read up to sequence: 0\n",
      "Read up to sequence: 100000\n",
      "Read up to sequence: 200000\n",
      "Read up to sequence: 300000\n",
      "Read up to sequence: 400000\n",
      "Read up to sequence: 500000\n",
      "Read up to sequence: 600000\n",
      "Read up to sequence: 700000\n",
      "Read up to sequence: 800000\n"
     ]
    }
   ],
   "source": [
    "move_cut_to_non_a = True\n",
    "\n",
    "for index, row in data.iterrows() :\n",
    "    if index % 100000 == 0:\n",
    "        print(\"Read up to sequence: \" + str(index))\n",
    "\n",
    "    upstream_seq = row['upstream']\n",
    "    downstream_seq = row['downstream']\n",
    "    pas_seq = row['pas']\n",
    "\n",
    "    seq = row['seq']\n",
    "    \n",
    "    lib_index = -1\n",
    "    lib = ''\n",
    "    up_index = [0, 40]\n",
    "    dn_index = [0, 20]\n",
    "    for j in range(0, len(libs)) :\n",
    "        up_regex = libs[j][1]\n",
    "        dn_regex = libs[j][2]\n",
    "\n",
    "        if re.search(up_regex, upstream_seq) and re.search(dn_regex, downstream_seq) :\n",
    "            lib_index = j\n",
    "            lib = libs[j][0]\n",
    "            \n",
    "            up_index[0] = libs[j][3][0][0]\n",
    "            up_index[1] = libs[j][3][0][1]\n",
    "            dn_index[0] = libs[j][3][1][0]\n",
    "            dn_index[1] = libs[j][3][1][1]\n",
    "            \n",
    "            break\n",
    "    \n",
    "    mask = ('X' * (up_index[0])) + ('N' * (up_index[1] - up_index[0])) + ('X' * (40 - up_index[1]))\n",
    "    mask += ('X' * 33)\n",
    "    mask += ('X' * (dn_index[0])) + ('N' * (dn_index[1] - dn_index[0])) + ('X' * (20 - dn_index[1]))\n",
    "\n",
    "    cut_str = row[cut_matrix_name]\n",
    "    cut_str = cut_str[1:len(cut_str)-1]\n",
    "    cuts_member = cut_str.split(', ')\n",
    "    \n",
    "    proximal_count = 0\n",
    "    \n",
    "    if cut_str != '' :\n",
    "        for j in range(0, len(cuts_member)) :\n",
    "            cutpos = int(cuts_member[j]) + 24\n",
    "            \n",
    "            if move_cut_to_non_a :\n",
    "                jj_char = 0\n",
    "                while (up_constant_dataframe + seq)[cutpos-1] == 'A' and cutpos > 0 and jj_char < 2 :\n",
    "                    cutpos -= 1\n",
    "                    jj_char += 1\n",
    "\n",
    "            proximal_cuts[index, cutpos] += 1\n",
    "\n",
    "            proximal_count += 1\n",
    "    \n",
    "    distal_count = row['distal_count']\n",
    "    total_count = proximal_count + distal_count\n",
    "\n",
    "    #Sequence length 196\n",
    "    emitted_seq.append(up_constant_dataframe + seq + dn_constant_dataframe)\n",
    "    emitted_mask.append(('X' * len(up_constant_dataframe)) + mask + ('X' * len(dn_constant_dataframe)))\n",
    "    \n",
    "    emitted_lib.append(lib)\n",
    "    emitted_lib_index.append(lib_index)\n",
    "    emitted_sublib.append(lib)\n",
    "    emitted_sublib_index.append(lib_index)\n",
    "\n",
    "    emitted_proximal_count.append(proximal_count)\n",
    "    emitted_distal_count.append(distal_count)\n",
    "    emitted_total_count.append(total_count)"
   ]
  },
  {
   "cell_type": "code",
   "execution_count": 8,
   "metadata": {},
   "outputs": [],
   "source": [
    "\n",
    "#Inflate dataframe\n",
    "\n",
    "df = pd.DataFrame({'seq'  : emitted_seq,\n",
    "                    'mask'  : emitted_mask,\n",
    "                    'proximal_count'  : emitted_proximal_count,\n",
    "                    'distal_count'  : emitted_distal_count,\n",
    "                    'total_count'  : emitted_total_count,\n",
    "                    'library'  : emitted_lib,\n",
    "                    'library_index'  : emitted_lib_index,\n",
    "                    'sublibrary'  : emitted_sublib,\n",
    "                    'sublibrary_index'  : emitted_sublib_index\n",
    "                })\n"
   ]
  },
  {
   "cell_type": "code",
   "execution_count": 9,
   "metadata": {},
   "outputs": [],
   "source": [
    "\n",
    "#Simultaneously sort dataframe and cut matrices\n",
    "\n",
    "total_count = np.array(df['total_count'])\n",
    "sort_index = np.argsort(total_count)\n",
    "\n",
    "df = df.iloc[sort_index].reset_index(drop=True)\n",
    "proximal_cuts = proximal_cuts[sort_index]\n"
   ]
  },
  {
   "cell_type": "code",
   "execution_count": 10,
   "metadata": {},
   "outputs": [],
   "source": [
    "\n",
    "#Store dataframe and cut matrices\n",
    "\n",
    "df = df[['seq', 'mask', 'proximal_count', 'distal_count', 'total_count', 'library', 'library_index', 'sublibrary', 'sublibrary_index']]\n",
    "\n",
    "df.to_csv(library_name + '_' + library_version + '.csv', header=True, index=False, sep=',')\n",
    "\n",
    "spio.savemat(library_name + '_' + library_version + '_cuts', {'cuts' : proximal_cuts})\n"
   ]
  },
  {
   "cell_type": "code",
   "execution_count": 11,
   "metadata": {},
   "outputs": [
    {
     "name": "stdout",
     "output_type": "stream",
     "text": [
      "819644\n"
     ]
    }
   ],
   "source": [
    "\n",
    "#Read dataframe and cut matrices\n",
    "\n",
    "df = pd.read_csv(library_name + '_' + library_version + '.csv', delimiter=',').reset_index(drop=True)\n",
    "\n",
    "proximal_cuts = spio.loadmat(library_name + '_' + library_version + '_cuts.mat')['cuts']\n",
    "\n",
    "print(len(df))\n"
   ]
  },
  {
   "cell_type": "code",
   "execution_count": 12,
   "metadata": {},
   "outputs": [
    {
     "data": {
      "image/png": "[encoded data removed]",
      "text/plain": [
       "<Figure size 432x288 with 1 Axes>"
      ]
     },
     "metadata": {},
     "output_type": "display_data"
    }
   ],
   "source": [
    "plot_cut_2mers(df, proximal_cuts) #Add code to remove AA cutsite"
   ]
  },
  {
   "cell_type": "code",
   "execution_count": 13,
   "metadata": {},
   "outputs": [
    {
     "name": "stdout",
     "output_type": "stream",
     "text": [
      "Read up to sequence: 0\n",
      "Read up to sequence: 100000\n",
      "Read up to sequence: 200000\n",
      "Read up to sequence: 300000\n",
      "Read up to sequence: 400000\n",
      "Read up to sequence: 500000\n",
      "Read up to sequence: 600000\n",
      "Read up to sequence: 700000\n",
      "Read up to sequence: 800000\n",
      "799341\n",
      "799341\n"
     ]
    }
   ],
   "source": [
    "import regex as re\n",
    "\n",
    "#Filter dataframe and cut matrices\n",
    "\n",
    "dse_misprime_regex = re.compile(r\"(AAAAAAAA){s<=2}\")\n",
    "\n",
    "misprime_regexes = [\n",
    "    re.compile(r\"(AAAAAAAAAAA){s<=2}\"),\n",
    "    re.compile(r\"(AAAAAAAAAAAAAAAA){s<=4}\"),\n",
    "    re.compile(r\"(AAAAAAAAAAAAAAAAAAAA){s<=5}\")\n",
    "]\n",
    "\n",
    "keep_index = []\n",
    "for index, row in df.iterrows() :\n",
    "    if index % 100000 == 0:\n",
    "        print(\"Read up to sequence: \" + str(index))\n",
    "    \n",
    "    curr_seq_unfilt = row['seq']\n",
    "    curr_mask = row['mask']\n",
    "    \n",
    "    curr_seq = ''\n",
    "    for j in range(0, len(curr_seq_unfilt)) :\n",
    "        if curr_mask[j] == 'N' :\n",
    "            curr_seq += curr_seq_unfilt[j]\n",
    "        else :\n",
    "            curr_seq += 'X'\n",
    "    \n",
    "    internal_priming = False\n",
    "    for misprime_regex in misprime_regexes :\n",
    "        if re.search(misprime_regex, curr_seq) :\n",
    "            internal_priming = True\n",
    "            break\n",
    "    \n",
    "    if re.search(dse_misprime_regex, curr_seq[75:]) :\n",
    "        internal_priming = True\n",
    "    \n",
    "    if not internal_priming :\n",
    "        keep_index.append(index)\n",
    "\n",
    "\n",
    "df_cleaned = df.iloc[keep_index].reset_index(drop=True)\n",
    "\n",
    "proximal_cuts_cleaned = proximal_cuts[keep_index]\n",
    "\n",
    "print(len(df_cleaned))\n",
    "print(proximal_cuts_cleaned.shape[0])\n"
   ]
  },
  {
   "cell_type": "code",
   "execution_count": 14,
   "metadata": {},
   "outputs": [],
   "source": [
    "#Store dataframe and cut matrices\n",
    "library_version = 'cleaned'\n",
    "\n",
    "df_cleaned = df_cleaned[['seq', 'mask', 'proximal_count', 'distal_count', 'total_count', 'library', 'library_index', 'sublibrary', 'sublibrary_index']]\n",
    "\n",
    "df_cleaned.to_csv(library_name + '_' + library_version + '.csv', header=True, index=False, sep=',')\n",
    "\n",
    "spio.savemat(library_name + '_' + library_version + '_cuts', {'cuts' : proximal_cuts_cleaned})"
   ]
  },
  {
   "cell_type": "code",
   "execution_count": 15,
   "metadata": {},
   "outputs": [
    {
     "name": "stdout",
     "output_type": "stream",
     "text": [
      "799341\n"
     ]
    }
   ],
   "source": [
    "#Read dataframe and cut matrices\n",
    "library_version = 'cleaned'\n",
    "\n",
    "df_cleaned = pd.read_csv(library_name + '_' + library_version + '.csv', delimiter=',').reset_index(drop=True)\n",
    "\n",
    "proximal_cuts_cleaned = spio.loadmat(library_name + '_' + library_version + '_cuts.mat')['cuts']\n",
    "\n",
    "print(len(df_cleaned))"
   ]
  },
  {
   "cell_type": "code",
   "execution_count": 16,
   "metadata": {},
   "outputs": [
    {
     "data": {
      "image/png": "[encoded data removed]",
      "text/plain": [
       "<Figure size 432x288 with 1 Axes>"
      ]
     },
     "metadata": {},
     "output_type": "display_data"
    }
   ],
   "source": [
    "plot_cut_2mers(df_cleaned, proximal_cuts_cleaned)"
   ]
  },
  {
   "cell_type": "code",
   "execution_count": 17,
   "metadata": {},
   "outputs": [
    {
     "data": {
      "image/png": "[encoded data removed]",
      "text/plain": [
       "<Figure size 576x432 with 1 Axes>"
      ]
     },
     "metadata": {},
     "output_type": "display_data"
    }
   ],
   "source": [
    "\n",
    "proximal_profile = np.ravel(proximal_cuts_cleaned.sum(axis=0))\n",
    "\n",
    "f = plt.figure(figsize=(8, 6))\n",
    "\n",
    "plt.plot(np.arange(len(proximal_profile)), proximal_profile, c='darkgreen', linewidth=2)\n",
    "\n",
    "#Proximal 1\n",
    "plt.axvline(x=70, linewidth=2, c='black', linestyle='--')\n",
    "plt.axvline(x=70 + 6, linewidth=2, c='black', linestyle='--')\n",
    "plt.axvline(x=70 + 21, linewidth=2, c='orange', linestyle='--')\n",
    "\n",
    "\n",
    "plt.xticks(fontsize=14)\n",
    "plt.yticks(fontsize=14)\n",
    "plt.xlabel('Position', fontsize=16)\n",
    "plt.ylabel('Read count', fontsize=16)\n",
    "plt.title('Proximal site', fontsize=16)\n",
    "plt.tight_layout()\n",
    "\n",
    "plt.show()\n"
   ]
  },
  {
   "cell_type": "code",
   "execution_count": 18,
   "metadata": {},
   "outputs": [
    {
     "name": "stdout",
     "output_type": "stream",
     "text": [
      "712949\n",
      "712949\n"
     ]
    }
   ],
   "source": [
    "\n",
    "#Filter final version on read count\n",
    "\n",
    "total_count = np.array(df_cleaned['total_count'])\n",
    "filter_index = np.nonzero(total_count >= 10)[0]\n",
    "\n",
    "df_final = df_cleaned.iloc[filter_index].reset_index(drop=True)\n",
    "proximal_cuts_final = proximal_cuts_cleaned[filter_index]\n",
    "\n",
    "print(len(df_final))\n",
    "print(proximal_cuts_final.shape[0])\n"
   ]
  },
  {
   "cell_type": "code",
   "execution_count": 19,
   "metadata": {},
   "outputs": [],
   "source": [
    "#Store dataframe and cut matrices\n",
    "library_version = 'final'\n",
    "\n",
    "df_final = df_final[['seq', 'mask', 'proximal_count', 'distal_count', 'total_count', 'library', 'library_index', 'sublibrary', 'sublibrary_index']]\n",
    "\n",
    "df_final.to_csv(library_name + '_' + library_version + '.csv', header=True, index=False, sep=',')\n",
    "\n",
    "spio.savemat(library_name + '_' + library_version + '_cuts', {'cuts' : proximal_cuts_final})"
   ]
  },
  {
   "cell_type": "code",
   "execution_count": 20,
   "metadata": {},
   "outputs": [
    {
     "data": {
      "image/png": "[encoded data removed]",
      "text/plain": [
       "<Figure size 432x288 with 1 Axes>"
      ]
     },
     "metadata": {},
     "output_type": "display_data"
    }
   ],
   "source": [
    "plot_cut_2mers(df_final, proximal_cuts_final)"
   ]
  },
  {
   "cell_type": "code",
   "execution_count": null,
   "metadata": {},
   "outputs": [],
   "source": []
  }
 ],
 "metadata": {
  "kernelspec": {
   "display_name": "Python [conda env:tensorflow]",
   "language": "python",
   "name": "conda-env-tensorflow-py"
  },
  "language_info": {
   "codemirror_mode": {
    "name": "ipython",
    "version": 3
   },
   "file_extension": ".py",
   "mimetype": "text/x-python",
   "name": "python",
   "nbconvert_exporter": "python",
   "pygments_lexer": "ipython3",
   "version": "3.6.8"
  }
 },
 "nbformat": 4,
 "nbformat_minor": 2
}
