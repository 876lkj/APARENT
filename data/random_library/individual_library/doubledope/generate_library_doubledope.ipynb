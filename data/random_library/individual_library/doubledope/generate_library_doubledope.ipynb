{
 "cells": [
  {
   "cell_type": "code",
   "execution_count": 3,
   "metadata": {},
   "outputs": [],
   "source": [
    "import pandas as pd\n",
    "import scipy\n",
    "import numpy as np\n",
    "import scipy.sparse as sp\n",
    "import scipy.io as spio\n",
    "\n",
    "import operator\n",
    "import matplotlib.pyplot as plt\n",
    "\n",
    "\n",
    "def plot_cut_2mers(datafr, cut_mat) :\n",
    "    cut_mer2 = {}\n",
    "\n",
    "    seqs = list(datafr['seq'].values)\n",
    "    seqs = np.array(seqs, dtype=np.object)\n",
    "\n",
    "    total_count = np.array(datafr['total_count'])\n",
    "\n",
    "    cx = sp.coo_matrix(cut_mat)\n",
    "\n",
    "    for i,j,v in zip(cx.row, cx.col, cx.data) :\n",
    "        seq = seqs[i]\n",
    "\n",
    "        mer2 = seq[j-1:j+1]\n",
    "        if mer2 not in cut_mer2 :\n",
    "            cut_mer2[mer2] = 0\n",
    "        cut_mer2[mer2] += v\n",
    "\n",
    "    cut_mer2_sorted = sorted(cut_mer2.items(), key=operator.itemgetter(1))\n",
    "\n",
    "    mer2_list = []\n",
    "    mer2_vals = []\n",
    "    for i in range(0, len(cut_mer2_sorted)) :\n",
    "        mer2_list.append(cut_mer2_sorted[i][0])\n",
    "        mer2_vals.append(cut_mer2_sorted[i][1])\n",
    "\n",
    "    f = plt.figure(figsize=(6, 4))\n",
    "\n",
    "    plt.bar(mer2_list, mer2_vals, color='black')\n",
    "\n",
    "    plt.title('Proximal cleavage dinuc.', fontsize=14)\n",
    "    plt.xlabel('Dinucleotide', fontsize=14)\n",
    "    plt.ylabel('Read count', fontsize=14)\n",
    "\n",
    "    plt.xticks(fontsize=14, rotation=45)\n",
    "    plt.yticks(fontsize=14)\n",
    "\n",
    "    plt.tight_layout()\n",
    "    plt.show()"
   ]
  },
  {
   "cell_type": "code",
   "execution_count": 4,
   "metadata": {},
   "outputs": [],
   "source": [
    "library_name = 'doubledope_score_50'\n",
    "library_version = 'unfiltered'"
   ]
  },
  {
   "cell_type": "code",
   "execution_count": 3,
   "metadata": {},
   "outputs": [],
   "source": [
    "raw_data_name = 'with_barcode/doubledope_library_hamming2_dna_antimisprime_rna_antimisprime_score_50'\n",
    "data = pd.read_csv(raw_data_name + '.csv', sep=',').reset_index(drop=True)"
   ]
  },
  {
   "cell_type": "code",
   "execution_count": 5,
   "metadata": {},
   "outputs": [],
   "source": [
    "emitted_proximal_count = []\n",
    "emitted_distal_count = []\n",
    "emitted_total_count = []\n",
    "emitted_seq = []\n",
    "emitted_mask = []\n",
    "emitted_lib = []\n",
    "emitted_lib_index = []\n",
    "emitted_sublib = []\n",
    "emitted_sublib_index = []\n",
    "\n",
    "proximal_cuts = sp.lil_matrix((len(data), 206)) #PAS CSE starts at 70\n"
   ]
  },
  {
   "cell_type": "code",
   "execution_count": 5,
   "metadata": {},
   "outputs": [],
   "source": [
    "up_constant = 'XXXXXXXXXXXXXXXXXXXXXXXXXXXXXXXXXXXXXXXXXXXXXXXXXXXXXXXXXXXXXXXXXXXXXXXXXXXXXXXXXXXXXXXXXXXXXXXXXXXXXXXXXXXXXXXXXXXXXXXXXXXXXXXXXXXXXXXXXXXXXXXXXXXXXXXXXXXXXXXXXXXXXXXXXXXXXXXXXXXXXXXXXXXXXXXXXXXXXXXXXXXXXXXXXXXXXXXXXXXXXXXXXXXXXXXXXXXXXXXXXXXXXXXTGATAGTAAGGCCCATTACCTGCCTCTTTCCCTACACGACGCTCTTCCGATCT'\n",
    "dn_constant = 'CTACGAACTCCCAGCGCAGAACACAGCGGTTCGACTGTGCCTTCTAGTTGCCAGCCATCTGTTGTTTGCCCCTCCCCCGTGCCTTCCTTGACCCTGGAAGGTGCCACTCCCACTGTCCTTTCCTAATAAAATGAGGAAATTGCATCGCATTGTCTGAGTAGGTGTCATTCTATTCTGGGGGGTGGGGTGGGGCAGGACAGCAAGGGGGAGGATTGGGAAGACAATAGCAGGCATGCXXXXXXXXXXXXXXXXXXXXXXXXXXXXXXXXXXXXXXXXXXXXXXXXXXXXXXXXXXXXXXXX'"
   ]
  },
  {
   "cell_type": "code",
   "execution_count": 6,
   "metadata": {},
   "outputs": [],
   "source": [
    "\n",
    "#Store library meta data\n",
    "\n",
    "library_list = []\n",
    "library_index_list = []\n",
    "sublibrary_list = []\n",
    "sublibrary_index_list = []\n",
    "upstream_padding_list = []\n",
    "downstream_padding_list = []\n",
    "\n",
    "for pas_shift in range(-4, 4 + 1) :\n",
    "    library_list.append('doubledope')\n",
    "    library_index_list.append(20)\n",
    "    sublibrary_list.append('doubledope_5prime_' + str(pas_shift))\n",
    "    sublibrary_index_list.append(205 + pas_shift)\n",
    "    \n",
    "    upstream_padding_list.append(up_constant[-10 + pas_shift - 190:-10 + pas_shift])\n",
    "    downstream_padding_list.append(dn_constant[5 + pas_shift:5 + pas_shift + 120])\n",
    "    \n",
    "\n",
    "df_metadata = pd.DataFrame(\n",
    "    {\n",
    "        'library' : library_list,\n",
    "        'library_index' : library_index_list,\n",
    "        'sublibrary' : sublibrary_list,\n",
    "        'sublibrary_index' : sublibrary_index_list,\n",
    "        'upstream_padding' : upstream_padding_list,\n",
    "        'downstream_padding' : downstream_padding_list\n",
    "    }\n",
    ")\n",
    "\n",
    "df_metadata = df_metadata[['library', 'library_index', 'sublibrary', 'sublibrary_index', 'upstream_padding', 'downstream_padding']]\n",
    "\n",
    "df_metadata.to_csv(library_name + '_metadata.csv', header=True, index=False, sep=',')\n",
    "\n"
   ]
  },
  {
   "cell_type": "code",
   "execution_count": 7,
   "metadata": {},
   "outputs": [],
   "source": [
    "#Make Valid PAS lookup hierarchy\n",
    "\n",
    "cano_pas1 = 'AATAAA'\n",
    "cano_pas2 = 'ATTAAA'\n",
    "\n",
    "valid_pas = []\n",
    "\n",
    "valid_pas.append({})\n",
    "valid_pas[0]['AATAAA'] = True\n",
    "\n",
    "valid_pas.append({})\n",
    "valid_pas[1]['ATTAAA'] = True\n",
    "\n",
    "valid_pas.append({})\n",
    "valid_pas[2]['AGTAAA'] = True\n",
    "valid_pas[2]['TATAAA'] = True\n",
    "valid_pas[2]['CATAAA'] = True\n",
    "valid_pas[2]['GATAAA'] = True\n",
    "\n",
    "valid_pas.append({})\n",
    "for pos in range(0, 6) :\n",
    "    for base in ['C', 'G', 'T'] :\n",
    "        valid_pas[3][cano_pas1[:pos] + base + cano_pas1[pos+1:]] = True\n",
    "\n",
    "valid_pas.append({})\n",
    "valid_pas[4]['AGGAAA'] = True\n",
    "valid_pas[4]['ACCAAA'] = True\n",
    "valid_pas[4]['AACAAA'] = True\n",
    "valid_pas[4]['AAGAAA'] = True\n",
    "valid_pas[4]['TACAAA'] = True\n",
    "valid_pas[4]['TAGAAA'] = True\n",
    "valid_pas[4]['ATTATA'] = True\n",
    "valid_pas[4]['ATTACA'] = True\n",
    "valid_pas[4]['ATTAGA'] = True"
   ]
  },
  {
   "cell_type": "code",
   "execution_count": 8,
   "metadata": {},
   "outputs": [
    {
     "name": "stdout",
     "output_type": "stream",
     "text": [
      "Read up to sequence: 0\n",
      "Read up to sequence: 100000\n",
      "Read up to sequence: 200000\n",
      "Read up to sequence: 300000\n",
      "Read up to sequence: 400000\n",
      "Read up to sequence: 500000\n",
      "Read up to sequence: 600000\n",
      "Read up to sequence: 700000\n",
      "Read up to sequence: 800000\n",
      "Read up to sequence: 900000\n",
      "Read up to sequence: 1000000\n",
      "Read up to sequence: 1100000\n",
      "Read up to sequence: 1200000\n",
      "Read up to sequence: 1300000\n"
     ]
    }
   ],
   "source": [
    "move_cut_to_non_a = True\n",
    "align_on_pas = True\n",
    "pas_align_window = 4\n",
    "\n",
    "for index, row in data.iterrows() :\n",
    "    if index % 100000 == 0:\n",
    "        print(\"Read up to sequence: \" + str(index))\n",
    "\n",
    "    seq = row['sequence']\n",
    "    mask = ('N' * 20) + ('X' * 15) + ('N' * (25 + 6 + 40)) + ('X' * 14) + ('N' * (25 + 6 + 40))\n",
    "\n",
    "    cut_str = row['proximal_cuts']\n",
    "    cut_str = cut_str[1:len(cut_str)-1]\n",
    "    cuts_member = cut_str.split(', ')\n",
    "    \n",
    "    proximal_count = row['proximal_count']\n",
    "    distal_count = row['distal_count']\n",
    "    total_count = row['total_count']\n",
    "    \n",
    "    pas_shift = 0\n",
    "    if align_on_pas :\n",
    "        found_pas = False\n",
    "        pas_start = 60\n",
    "        for j in range(0, pas_align_window + 1) :\n",
    "            for j_dir in [-1, 1] :\n",
    "                i_start = pas_start - j * j_dir\n",
    "                i_end = pas_start - j * j_dir + 6\n",
    "                for k in range(0, len(valid_pas)) :\n",
    "                    if seq[i_start:i_end] in valid_pas[k] and valid_pas[k][seq[i_start:i_end]] == True :\n",
    "                        pas_shift = i_start - pas_start\n",
    "                        found_pas = True\n",
    "                        break\n",
    "\n",
    "                if found_pas :\n",
    "                    break\n",
    "            \n",
    "            if found_pas :\n",
    "                break\n",
    "    \n",
    "    full_seq = (up_constant[-10 + pas_shift:] + seq + dn_constant)[:206]\n",
    "    full_mask = ('X' * (10 - pas_shift)) + mask + ('X' * 300)[:206]\n",
    "\n",
    "    total_count_check = distal_count\n",
    "    if cut_str != '' :\n",
    "        for j in range(0, len(cuts_member)) :\n",
    "            cutpos = int(cuts_member[j]) + 10 - pas_shift\n",
    "            total_count_check += 1\n",
    "\n",
    "            if move_cut_to_non_a :\n",
    "                jj_char = 0\n",
    "                while full_seq[cutpos-1] == 'A' and jj_char < 2 and cutpos > 0 :\n",
    "                    cutpos -= 1\n",
    "                    jj_char += 1\n",
    "\n",
    "            proximal_cuts[index, cutpos] += 1\n",
    "\n",
    "    if total_count_check != total_count :\n",
    "        print('ERROR! Total count mismatch.')\n",
    "    \n",
    "    #Emit 5' Proximal PAS variant\n",
    "\n",
    "    #Sequence length 206\n",
    "    emitted_seq.append(full_seq)\n",
    "    emitted_mask.append(full_mask)\n",
    "    \n",
    "    emitted_lib.append('doubledope')\n",
    "    emitted_lib_index.append(20)\n",
    "    emitted_sublib.append('doubledope_5prime_' + str(pas_shift))\n",
    "    emitted_sublib_index.append(205 + pas_shift)\n",
    "\n",
    "    emitted_proximal_count.append(proximal_count)\n",
    "    emitted_distal_count.append(distal_count)\n",
    "    emitted_total_count.append(total_count)"
   ]
  },
  {
   "cell_type": "code",
   "execution_count": 9,
   "metadata": {},
   "outputs": [],
   "source": [
    "\n",
    "#Inflate dataframe\n",
    "\n",
    "df = pd.DataFrame({'seq'  : emitted_seq,\n",
    "                    'mask'  : emitted_mask,\n",
    "                    'proximal_count'  : emitted_proximal_count,\n",
    "                    'distal_count'  : emitted_distal_count,\n",
    "                    'total_count'  : emitted_total_count,\n",
    "                    'library'  : emitted_lib,\n",
    "                    'library_index'  : emitted_lib_index,\n",
    "                    'sublibrary'  : emitted_sublib,\n",
    "                    'sublibrary_index'  : emitted_sublib_index\n",
    "                })\n"
   ]
  },
  {
   "cell_type": "code",
   "execution_count": 10,
   "metadata": {},
   "outputs": [],
   "source": [
    "\n",
    "#Simultaneously sort dataframe and cut matrices\n",
    "\n",
    "total_count = np.array(df['total_count'])\n",
    "sort_index = np.argsort(total_count)\n",
    "\n",
    "df = df.iloc[sort_index].reset_index(drop=True)\n",
    "proximal_cuts = proximal_cuts[sort_index]\n"
   ]
  },
  {
   "cell_type": "code",
   "execution_count": 11,
   "metadata": {},
   "outputs": [],
   "source": [
    "\n",
    "#Store dataframe and cut matrices\n",
    "\n",
    "df = df[['seq', 'mask', 'proximal_count', 'distal_count', 'total_count', 'library', 'library_index', 'sublibrary', 'sublibrary_index']]\n",
    "\n",
    "df.to_csv(library_name + '_' + library_version + '.csv', header=True, index=False, sep=',')\n",
    "\n",
    "spio.savemat(library_name + '_' + library_version + '_cuts', {'cuts' : proximal_cuts})\n"
   ]
  },
  {
   "cell_type": "code",
   "execution_count": 12,
   "metadata": {},
   "outputs": [
    {
     "name": "stdout",
     "output_type": "stream",
     "text": [
      "1310490\n"
     ]
    }
   ],
   "source": [
    "\n",
    "#Read dataframe and cut matrices\n",
    "\n",
    "df = pd.read_csv(library_name + '_' + library_version + '.csv', delimiter=',').reset_index(drop=True)\n",
    "\n",
    "proximal_cuts = spio.loadmat(library_name + '_' + library_version + '_cuts.mat')['cuts']\n",
    "\n",
    "print(len(df))\n"
   ]
  },
  {
   "cell_type": "code",
   "execution_count": 13,
   "metadata": {},
   "outputs": [
    {
     "data": {
      "image/png": "[encoded data removed]",
      "text/plain": [
       "<Figure size 432x288 with 1 Axes>"
      ]
     },
     "metadata": {},
     "output_type": "display_data"
    }
   ],
   "source": [
    "plot_cut_2mers(df, proximal_cuts)"
   ]
  },
  {
   "cell_type": "code",
   "execution_count": 14,
   "metadata": {},
   "outputs": [
    {
     "name": "stdout",
     "output_type": "stream",
     "text": [
      "Read up to sequence: 0\n",
      "Read up to sequence: 100000\n",
      "Read up to sequence: 200000\n",
      "Read up to sequence: 300000\n",
      "Read up to sequence: 400000\n",
      "Read up to sequence: 500000\n",
      "Read up to sequence: 600000\n",
      "Read up to sequence: 700000\n",
      "Read up to sequence: 800000\n",
      "Read up to sequence: 900000\n",
      "Read up to sequence: 1000000\n",
      "Read up to sequence: 1100000\n",
      "Read up to sequence: 1200000\n",
      "Read up to sequence: 1300000\n",
      "1194207\n",
      "1194207\n"
     ]
    }
   ],
   "source": [
    "import regex as re\n",
    "\n",
    "#Filter dataframe and cut matrices\n",
    "\n",
    "misprime_regexes = [\n",
    "    re.compile(r\"(AAAAAAAAAAA){s<=2}\"),\n",
    "    re.compile(r\"(AAAAAAAAAAAAAAAA){s<=4}\"),\n",
    "    re.compile(r\"(AAAAAAAAAAAAAAAAAAAA){s<=5}\")\n",
    "]\n",
    "\n",
    "keep_index = []\n",
    "for index, row in df.iterrows() :\n",
    "    if index % 100000 == 0:\n",
    "        print(\"Read up to sequence: \" + str(index))\n",
    "    \n",
    "    curr_seq = row['seq']\n",
    "    \n",
    "    internal_priming = False\n",
    "    for misprime_regex in misprime_regexes :\n",
    "        if re.search(misprime_regex, curr_seq) :\n",
    "            internal_priming = True\n",
    "            break\n",
    "    \n",
    "    if not internal_priming :\n",
    "        keep_index.append(index)\n",
    "\n",
    "\n",
    "df_cleaned = df.iloc[keep_index].reset_index(drop=True)\n",
    "\n",
    "proximal_cuts_cleaned = proximal_cuts[keep_index]\n",
    "\n",
    "print(len(df_cleaned))\n",
    "print(proximal_cuts_cleaned.shape[0])\n"
   ]
  },
  {
   "cell_type": "code",
   "execution_count": 15,
   "metadata": {},
   "outputs": [],
   "source": [
    "#Store dataframe and cut matrices\n",
    "library_version = 'cleaned'\n",
    "\n",
    "df_cleaned = df_cleaned[['seq', 'mask', 'proximal_count', 'distal_count', 'total_count', 'library', 'library_index', 'sublibrary', 'sublibrary_index']]\n",
    "\n",
    "df_cleaned.to_csv(library_name + '_' + library_version + '.csv', header=True, index=False, sep=',')\n",
    "\n",
    "spio.savemat(library_name + '_' + library_version + '_cuts', {'cuts' : proximal_cuts_cleaned})"
   ]
  },
  {
   "cell_type": "code",
   "execution_count": 16,
   "metadata": {},
   "outputs": [
    {
     "name": "stdout",
     "output_type": "stream",
     "text": [
      "1194207\n"
     ]
    }
   ],
   "source": [
    "#Read dataframe and cut matrices\n",
    "library_version = 'cleaned'\n",
    "\n",
    "df_cleaned = pd.read_csv(library_name + '_' + library_version + '.csv', delimiter=',').reset_index(drop=True)\n",
    "\n",
    "proximal_cuts_cleaned = spio.loadmat(library_name + '_' + library_version + '_cuts.mat')['cuts']\n",
    "\n",
    "print(len(df_cleaned))"
   ]
  },
  {
   "cell_type": "code",
   "execution_count": 17,
   "metadata": {},
   "outputs": [
    {
     "data": {
      "image/png": "[encoded data removed]",
      "text/plain": [
       "<Figure size 432x288 with 1 Axes>"
      ]
     },
     "metadata": {},
     "output_type": "display_data"
    }
   ],
   "source": [
    "plot_cut_2mers(df_cleaned, proximal_cuts_cleaned)"
   ]
  },
  {
   "cell_type": "code",
   "execution_count": 18,
   "metadata": {},
   "outputs": [
    {
     "data": {
      "image/png": "[encoded data removed]",
      "text/plain": [
       "<Figure size 576x432 with 1 Axes>"
      ]
     },
     "metadata": {},
     "output_type": "display_data"
    }
   ],
   "source": [
    "\n",
    "proximal_profile = np.ravel(proximal_cuts_cleaned.sum(axis=0))\n",
    "\n",
    "f = plt.figure(figsize=(8, 6))\n",
    "\n",
    "plt.plot(np.arange(len(proximal_profile)), proximal_profile, c='darkgreen', linewidth=2)\n",
    "\n",
    "#Proximal 1\n",
    "plt.axvline(x=70, linewidth=2, c='black', linestyle='--')\n",
    "plt.axvline(x=70 + 6, linewidth=2, c='black', linestyle='--')\n",
    "plt.axvline(x=70 + 21, linewidth=2, c='orange', linestyle='--')\n",
    "\n",
    "\n",
    "plt.xticks(fontsize=14)\n",
    "plt.yticks(fontsize=14)\n",
    "plt.xlabel('Position', fontsize=16)\n",
    "plt.ylabel('Read count', fontsize=16)\n",
    "plt.title('Proximal site', fontsize=16)\n",
    "plt.tight_layout()\n",
    "\n",
    "plt.show()\n"
   ]
  },
  {
   "cell_type": "code",
   "execution_count": 19,
   "metadata": {},
   "outputs": [
    {
     "name": "stdout",
     "output_type": "stream",
     "text": [
      "815301\n",
      "815301\n"
     ]
    }
   ],
   "source": [
    "\n",
    "#Filter final version on read count\n",
    "\n",
    "total_count = np.array(df_cleaned['total_count'])\n",
    "filter_index = np.nonzero(total_count >= 4)[0]\n",
    "\n",
    "df_final = df_cleaned.iloc[filter_index].reset_index(drop=True)\n",
    "proximal_cuts_final = proximal_cuts_cleaned[filter_index]\n",
    "\n",
    "print(len(df_final))\n",
    "print(proximal_cuts_final.shape[0])\n"
   ]
  },
  {
   "cell_type": "code",
   "execution_count": 20,
   "metadata": {},
   "outputs": [],
   "source": [
    "#Store dataframe and cut matrices\n",
    "library_version = 'final'\n",
    "\n",
    "df_final = df_final[['seq', 'mask', 'proximal_count', 'distal_count', 'total_count', 'library', 'library_index', 'sublibrary', 'sublibrary_index']]\n",
    "\n",
    "df_final.to_csv(library_name + '_' + library_version + '.csv', header=True, index=False, sep=',')\n",
    "\n",
    "spio.savemat(library_name + '_' + library_version + '_cuts', {'cuts' : proximal_cuts_final})"
   ]
  },
  {
   "cell_type": "code",
   "execution_count": 21,
   "metadata": {},
   "outputs": [
    {
     "data": {
      "image/png": "[encoded data removed]",
      "text/plain": [
       "<Figure size 432x288 with 1 Axes>"
      ]
     },
     "metadata": {},
     "output_type": "display_data"
    }
   ],
   "source": [
    "plot_cut_2mers(df_final, proximal_cuts_final)"
   ]
  },
  {
   "cell_type": "code",
   "execution_count": 22,
   "metadata": {},
   "outputs": [
    {
     "name": "stdout",
     "output_type": "stream",
     "text": [
      "Read up to sequence: 0\n",
      "Read up to sequence: 100000\n",
      "Read up to sequence: 200000\n",
      "Read up to sequence: 300000\n",
      "Read up to sequence: 400000\n",
      "Read up to sequence: 500000\n",
      "Read up to sequence: 600000\n",
      "Read up to sequence: 700000\n",
      "Read up to sequence: 800000\n"
     ]
    },
    {
     "data": {
      "image/png": "[encoded data removed]",
      "text/plain": [
       "<Figure size 576x432 with 1 Axes>"
      ]
     },
     "metadata": {},
     "output_type": "display_data"
    }
   ],
   "source": [
    "\n",
    "pas_pos_detection_histo = np.zeros(20+1)\n",
    "for index, row in df_final.iterrows() :\n",
    "    if index % 100000 == 0:\n",
    "        print(\"Read up to sequence: \" + str(index))\n",
    "    \n",
    "    break_loop = False\n",
    "    for j_width in range(0, 10 + 1) :\n",
    "        for j_dir in [-1, 1] :\n",
    "            j = j_width * j_dir\n",
    "            j_end = j_width * j_dir + 6\n",
    "\n",
    "            for k in range(0, len(valid_pas)) :\n",
    "                if row['seq'][70 + j: 70 + j_end] in valid_pas[k] :\n",
    "                    pas_pos_detection_histo[10+j] += 1\n",
    "\n",
    "                    break_loop = True\n",
    "                    break\n",
    "\n",
    "            if break_loop :\n",
    "                break\n",
    "        \n",
    "        if break_loop :\n",
    "            break\n",
    "\n",
    "\n",
    "\n",
    "f = plt.figure(figsize=(8, 6))\n",
    "\n",
    "plt.plot(np.arange(20+1), pas_pos_detection_histo, c='darkgreen', linewidth=2)\n",
    "\n",
    "#Proximal 1\n",
    "plt.axvline(x=10, linewidth=2, c='black', linestyle='--')\n",
    "\n",
    "\n",
    "plt.xticks(np.arange(20+1), np.arange(20+1)-10, fontsize=14)\n",
    "plt.yticks(fontsize=14)\n",
    "plt.xlabel('Position', fontsize=16)\n",
    "plt.ylabel('Sequence count', fontsize=16)\n",
    "plt.title('Detected PAS hexamers', fontsize=16)\n",
    "plt.tight_layout()\n",
    "\n",
    "plt.show()\n"
   ]
  },
  {
   "cell_type": "code",
   "execution_count": null,
   "metadata": {},
   "outputs": [],
   "source": []
  }
 ],
 "metadata": {
  "kernelspec": {
   "display_name": "Python [conda env:tensorflow]",
   "language": "python",
   "name": "conda-env-tensorflow-py"
  },
  "language_info": {
   "codemirror_mode": {
    "name": "ipython",
    "version": 3
   },
   "file_extension": ".py",
   "mimetype": "text/x-python",
   "name": "python",
   "nbconvert_exporter": "python",
   "pygments_lexer": "ipython3",
   "version": "3.6.8"
  }
 },
 "nbformat": 4,
 "nbformat_minor": 2
}
