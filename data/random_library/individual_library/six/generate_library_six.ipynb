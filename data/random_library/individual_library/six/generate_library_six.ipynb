{
 "cells": [
  {
   "cell_type": "code",
   "execution_count": 1,
   "metadata": {},
   "outputs": [],
   "source": [
    "import pandas as pd\n",
    "import scipy\n",
    "import numpy as np\n",
    "import scipy.sparse as sp\n",
    "import scipy.io as spio\n",
    "\n",
    "import operator\n",
    "import matplotlib.pyplot as plt\n",
    "\n",
    "\n",
    "def plot_cut_2mers(datafr, cut_mat) :\n",
    "    cut_mer2 = {}\n",
    "\n",
    "    seqs = list(datafr['seq'].values)\n",
    "    seqs = np.array(seqs, dtype=np.object)\n",
    "\n",
    "    total_count = np.array(datafr['total_count'])\n",
    "\n",
    "    cx = sp.coo_matrix(cut_mat)\n",
    "\n",
    "    for i,j,v in zip(cx.row, cx.col, cx.data) :\n",
    "        seq = seqs[i]\n",
    "\n",
    "        mer2 = seq[j-1:j+1]\n",
    "        if mer2 not in cut_mer2 :\n",
    "            cut_mer2[mer2] = 0\n",
    "        cut_mer2[mer2] += v\n",
    "\n",
    "    cut_mer2_sorted = sorted(cut_mer2.items(), key=operator.itemgetter(1))\n",
    "\n",
    "    mer2_list = []\n",
    "    mer2_vals = []\n",
    "    for i in range(0, len(cut_mer2_sorted)) :\n",
    "        mer2_list.append(cut_mer2_sorted[i][0])\n",
    "        mer2_vals.append(cut_mer2_sorted[i][1])\n",
    "\n",
    "    f = plt.figure(figsize=(6, 4))\n",
    "\n",
    "    plt.bar(mer2_list, mer2_vals, color='black')\n",
    "\n",
    "    plt.title('Proximal cleavage dinuc.', fontsize=14)\n",
    "    plt.xlabel('Dinucleotide', fontsize=14)\n",
    "    plt.ylabel('Read count', fontsize=14)\n",
    "\n",
    "    plt.xticks(fontsize=14, rotation=45)\n",
    "    plt.yticks(fontsize=14)\n",
    "\n",
    "    plt.tight_layout()\n",
    "    plt.show()"
   ]
  },
  {
   "cell_type": "code",
   "execution_count": 2,
   "metadata": {},
   "outputs": [],
   "source": [
    "library_name = 'apasix_noacut'\n",
    "library_version = 'unfiltered'"
   ]
  },
  {
   "cell_type": "code",
   "execution_count": 3,
   "metadata": {},
   "outputs": [],
   "source": [
    "raw_data_name = 'apasix'\n",
    "data = pd.read_csv(raw_data_name + '.csv', sep=',').reset_index(drop=True)"
   ]
  },
  {
   "cell_type": "code",
   "execution_count": 4,
   "metadata": {},
   "outputs": [],
   "source": [
    "emitted_proximal_count = []\n",
    "emitted_distal_count = []\n",
    "emitted_total_count = []\n",
    "emitted_seq = []\n",
    "emitted_mask = []\n",
    "emitted_lib = []\n",
    "emitted_lib_index = []\n",
    "emitted_sublib = []\n",
    "emitted_sublib_index = []\n",
    "\n",
    "proximal_cuts = sp.lil_matrix((len(data), 206)) #PAS CSE starts at 60\n",
    "\n",
    "\n",
    "lib_dict = {}\n",
    "lib_dict['aar'] = 0\n",
    "lib_dict['atr'] = 1\n",
    "lib_dict['hsp'] = 2\n",
    "lib_dict['snh'] = 3\n",
    "lib_dict['sox'] = 4\n",
    "lib_dict['wha'] = 5\n",
    "\n",
    "up_alignmentl = [\n",
    "    34,\n",
    "    29,\n",
    "    34,\n",
    "    22,\n",
    "    37,\n",
    "    33\n",
    "]\n",
    "\n",
    "up_constantl = [\n",
    "    'CCTCCTCCGAGCGGATGTACCCCGAGGACGGCGCCCTGAAGGGCGAGATCAAGCAGAGGCTGAAGCTGAAGGACGGCGGCCACTACGACGCTGAGGTCAAGACCACCTACAAGGCCAAGAAGCCCGTGCAGCTGCCCGGCGCCTACAACGTCAACATCAAGTTGGACATCACCTCCCACAACGAGGACTACACCATCGTGGAACAGTACGAACGCGCCGAGGGCCGCCACTCCACCGGCGGCATGGACGAGCTGTACAAGTCTTGATCCCTACACGACGCTCTTCCGATCTCTGAGCTTT',\n",
    "    'CTCCTCCGAGCGGATGTACCCCGAGGACGGCGCCCTGAAGGGCGAGATCAAGCAGAGGCTGAAGCTGAAGGACGGCGGCCACTACGACGCTGAGGTCAAGACCACCTACAAGGCCAAGAAGCCCGTGCAGCTGCCCGGCGCCTACAACGTCAACATCAAGTTGGACATCACCTCCCACAACGAGGACTACACCATCGTGGAACAGTACGAACGCGCCGAGGGCCGCCACTCCACCGGCGGCATGGACGAGCTGTACAAGTCTTGATCCCTACACGACGCTCTTCCGATCTAATGCATTTG',\n",
    "    'CTCCTCCGAGCGGATGTACCCCGAGGACGGCGCCCTGAAGGGCGAGATCAAGCAGAGGCTGAAGCTGAAGGACGGCGGCCACTACGACGCTGAGGTCAAGACCACCTACAAGGCCAAGAAGCCCGTGCAGCTGCCCGGCGCCTACAACGTCAACATCAAGTTGGACATCACCTCCCACAACGAGGACTACACCATCGTGGAACAGTACGAACGCGCCGAGGGCCGCCACTCCACCGGCGGCATGGACGAGCTGTACAAGTCTTGATCCCTACACGACGCTCTTCCGATCTTCTGAAATCT',\n",
    "    'CTCCTCCGAGCGGATGTACCCCGAGGACGGCGCCCTGAAGGGCGAGATCAAGCAGAGGCTGAAGCTGAAGGACGGCGGCCACTACGACGCTGAGGTCAAGACCACCTACAAGGCCAAGAAGCCCGTGCAGCTGCCCGGCGCCTACAACGTCAACATCAAGTTGGACATCACCTCCCACAACGAGGACTACACCATCGTGGAACAGTACGAACGCGCCGAGGGCCGCCACTCCACCGGCGGCATGGACGAGCTGTACAAGTCTTGATCCCTACACGACGCTCTTCCGATCTAACATGAACA',\n",
    "    'CTCCTCCGAGCGGATGTACCCCGAGGACGGCGCCCTGAAGGGCGAGATCAAGCAGAGGCTGAAGCTGAAGGACGGCGGCCACTACGACGCTGAGGTCAAGACCACCTACAAGGCCAAGAAGCCCGTGCAGCTGCCCGGCGCCTACAACGTCAACATCAAGTTGGACATCACCTCCCACAACGAGGACTACACCATCGTGGAACAGTACGAACGCGCCGAGGGCCGCCACTCCACCGGCGGCATGGACGAGCTGTACAAGTCTTGATCCCTACACGACGCTCTTCCGATCTTCTTTTTTTA',\n",
    "    'CTCCTCCGAGCGGATGTACCCCGAGGACGGCGCCCTGAAGGGCGAGATCAAGCAGAGGCTGAAGCTGAAGGACGGCGGCCACTACGACGCTGAGGTCAAGACCACCTACAAGGCCAAGAAGCCCGTGCAGCTGCCCGGCGCCTACAACGTCAACATCAAGTTGGACATCACCTCCCACAACGAGGACTACACCATCGTGGAACAGTACGAACGCGCCGAGGGCCGCCACTCCACCGGCGGCATGGACGAGCTGTACAAGTCTTGATCCCTACACGACGCTCTTCCGATCTTGAATTTCAT'\n",
    "]\n",
    "\n",
    "dn_constantl = [\n",
    "    'GGCTCTTTTGACAGCCTTTGGCGTCTGTAGAATAAATGCTGTGGCTCCTGCTGGCTGCTGTGGTGTTCACCTAGTCCAGCCCCAGAACCCGCTCGCGCACTACTCAGCGACCTCCAACACACAAGCAGGGAGCAGATACTGGCTTAACTATGCGGCATCAGAGCAGATTGTACTGAGAGTGCACCATAGGGGATCGGGAGATCTCCCGATCCGTCGACGTCAGGTGGCACTTTTCGGGGAAATGTGCGCGGAACCCCTATTTGTTTATTTTTCTAAATACATTCAAATATGTATCCGCTC',\n",
    "    'AATATACATTCAGTTATTAAGAAATAAACTGCTTTCTTAATACATACTGTGCATTATAATTGGAGAAATAGAATATCATGCTCGCGCACTACTCAGCGACCTCCAACACACAAGCAGGGAGCAGATACTGGCTTAACTATGCGGCATCAGAGCAGATTGTACTGAGAGTGCACCATAGGGGATCGGGAGATCTCCCGATCCGTCGACGTCAGGTGGCACTTTTCGGGGAAATGTGCGCGGAACCCCTATTTGTTTATTTTTCTAAATACATTCAAATATGTATCCGCTCATGAGACAATA',\n",
    "    'CACTTCCAAATAAAAATATGTAAATGAGTGGTTAATCTTTAGTTATTTTAAGATGATTTTAGGGTTTTGCTCGCGCACTACTCAGCGACCTCCAACACACAAGCAGGGAGCAGATACTGGCTTAACTATGCGGCATCAGAGCAGATTGTACTGAGAGTGCACCATAGGGGATCGGGAGATCTCCCGATCCGTCGACGTCAGGTGGCACTTTTCGGGGAAATGTGCGCGGAACCCCTATTTGTTTATTTTTCTAAATACATTCAAATATGTATCCGCTCATGAGACAATAACCCTGATAAA',\n",
    "    'TAAAGTGTTTTCTTTTAAATCAACTCTAAATAGCTCCATTCTCATAGTCACTAGTCAGACCGCTCGCGCACTACTCAGCGACCTCCAACACACAAGCAGGGAGCAGATACTGGCTTAACTATGCGGCATCAGAGCAGATTGTACTGAGAGTGCACCATAGGGGATCGGGAGATCTCCCGATCCGTCGACGTCAGGTGGCACTTTTCGGGGAAATGTGCGCGGAACCCCTATTTGTTTATTTTTCTAAATACATTCAAATATGTATCCGCTCATGAGACAATAACCCTGATAAATGCTTCA',\n",
    "    'GTTTTCTGATGACATAATAAAGACAGATCATTTCAGAATCTGGCCCTTGTGCAGGGGAGGAGGGAGGCTGGCCTAAGCTCGCGCACTACTCAGCGACCTCCAACACACAAGCAGGGAGCAGATACTGGCTTAACTATGCGGCATCAGAGCAGATTGTACTGAGAGTGCACCATAGGGGATCGGGAGATCTCCCGATCCGTCGACGTCAGGTGGCACTTTTCGGGGAAATGTGCGCGGAACCCCTATTTGTTTATTTTTCTAAATACATTCAAATATGTATCCGCTCATGAGACAATAACC',\n",
    "    'AGTGCTCAATAAAAAGAATAAAGAGGAAACAGCACTGGATCTATACCTATACAAAACAAGCTACCAGCGCTCGCGCACTACTCAGCGACCTCCAACACACAAGCAGGGAGCAGATACTGGCTTAACTATGCGGCATCAGAGCAGATTGTACTGAGAGTGCACCATAGGGGATCGGGAGATCTCCCGATCCGTCGACGTCAGGTGGCACTTTTCGGGGAAATGTGCGCGGAACCCCTATTTGTTTATTTTTCTAAATACATTCAAATATGTATCCGCTCATGAGACAATAACCCTGATAAA'\n",
    "]\n",
    "\n",
    "\n",
    "up_constant_dataframel = [\n",
    "    up_constantl[i][-up_alignmentl[i]:] for i in range(0, len(up_constantl))\n",
    "]\n",
    "up_constant_metadata = [\n",
    "    up_constantl[i][-up_alignmentl[i] - 190:-up_alignmentl[i]] for i in range(0, len(up_constantl))\n",
    "]\n",
    "\n",
    "dn_constant_dataframel = [\n",
    "    dn_constantl[i][:206 - 100 - up_alignmentl[i]] for i in range(0, len(dn_constantl))\n",
    "]\n",
    "dn_constant_metadata = [\n",
    "    dn_constantl[i][206 - 100 - up_alignmentl[i]:206 - 100 - up_alignmentl[i] + 120] for i in range(0, len(dn_constantl))\n",
    "]"
   ]
  },
  {
   "cell_type": "code",
   "execution_count": 5,
   "metadata": {},
   "outputs": [],
   "source": [
    "\n",
    "#Store library meta data\n",
    "\n",
    "df_metadata = pd.DataFrame(\n",
    "    {\n",
    "        'library' : ['aar', 'atr', 'hsp', 'snh', 'sox', 'wha'],\n",
    "        'library_index' : [30, 31, 32, 33, 34, 35],\n",
    "        'sublibrary' : ['aar', 'atr', 'hsp', 'snh', 'sox', 'wha'],\n",
    "        'sublibrary_index' : [30, 31, 32, 33, 34, 35],\n",
    "        'upstream_padding' : up_constant_metadata,\n",
    "        'downstream_padding' : dn_constant_metadata\n",
    "    }\n",
    ")\n",
    "\n",
    "df_metadata = df_metadata[['library', 'library_index', 'sublibrary', 'sublibrary_index', 'upstream_padding', 'downstream_padding']]\n",
    "\n",
    "df_metadata.to_csv(library_name + '_metadata.csv', header=True, index=False, sep=',')\n",
    "\n"
   ]
  },
  {
   "cell_type": "code",
   "execution_count": 6,
   "metadata": {},
   "outputs": [
    {
     "name": "stdout",
     "output_type": "stream",
     "text": [
      "Read up to sequence: 0\n",
      "Read up to sequence: 100000\n",
      "Read up to sequence: 200000\n",
      "Read up to sequence: 300000\n",
      "Read up to sequence: 400000\n",
      "Read up to sequence: 500000\n",
      "Read up to sequence: 600000\n",
      "Read up to sequence: 700000\n",
      "Read up to sequence: 800000\n",
      "Read up to sequence: 900000\n",
      "Read up to sequence: 1000000\n",
      "Read up to sequence: 1100000\n",
      "Read up to sequence: 1200000\n",
      "Read up to sequence: 1300000\n",
      "Read up to sequence: 1400000\n",
      "Read up to sequence: 1500000\n",
      "Read up to sequence: 1600000\n",
      "Read up to sequence: 1700000\n",
      "Read up to sequence: 1800000\n",
      "Read up to sequence: 1900000\n",
      "Read up to sequence: 2000000\n",
      "Read up to sequence: 2100000\n",
      "Read up to sequence: 2200000\n",
      "Read up to sequence: 2300000\n"
     ]
    }
   ],
   "source": [
    "move_cut_to_non_a = True\n",
    "\n",
    "for index, row in data.iterrows() :\n",
    "    if index % 100000 == 0:\n",
    "        print(\"Read up to sequence: \" + str(index))\n",
    "\n",
    "    lib = row['utr']\n",
    "    lib_index = lib_dict[row['utr']]\n",
    "    \n",
    "    up_alignment = up_alignmentl[lib_index]\n",
    "    up_constant = up_constant_dataframel[lib_index]\n",
    "    dn_constant = dn_constant_dataframel[lib_index]\n",
    "    \n",
    "    n25a = row['N25a']\n",
    "    n25b = row['N25b']\n",
    "    h50 = row['h50']\n",
    "\n",
    "    seq = n25a + h50 + n25b\n",
    "    mask = ('N' * 25) + ('X' * 50) + ('N' * 25)\n",
    "\n",
    "    cut_str = row['cuts']\n",
    "    cut_str = cut_str[1:len(cut_str)-1]\n",
    "    cuts_member = cut_str.split(', ')\n",
    "    \n",
    "    full_seq = up_constant + seq + dn_constant\n",
    "    full_mask = ('X' * len(up_constant)) + mask + ('X' * len(dn_constant))\n",
    "    \n",
    "    proximal_count = 0\n",
    "    distal_count = 0\n",
    "    total_count = 0\n",
    "\n",
    "    for j in range(0, len(cuts_member)) :\n",
    "        cutpos = int(cuts_member[j])\n",
    "        total_count += 1\n",
    "\n",
    "        if cutpos >= 144 :\n",
    "            distal_count += 1\n",
    "        else :\n",
    "            proximal_count += 1\n",
    "            \n",
    "            if move_cut_to_non_a :\n",
    "                jj_char = 0\n",
    "                while full_seq[cutpos + up_alignment - 1] == 'A' and jj_char < 2 and cutpos + up_alignment > 0 :\n",
    "                    cutpos -= 1\n",
    "                    jj_char += 1\n",
    "            \n",
    "            proximal_cuts[index, cutpos + up_alignment] += 1\n",
    "\n",
    "    #Sequence length 206\n",
    "    emitted_seq.append(full_seq)\n",
    "    emitted_mask.append(full_mask)\n",
    "    \n",
    "    emitted_lib.append(lib)\n",
    "    emitted_lib_index.append(30 + lib_index)\n",
    "    emitted_sublib.append(lib)\n",
    "    emitted_sublib_index.append(30 + lib_index)\n",
    "\n",
    "    emitted_proximal_count.append(proximal_count)\n",
    "    emitted_distal_count.append(distal_count)\n",
    "    emitted_total_count.append(total_count)"
   ]
  },
  {
   "cell_type": "code",
   "execution_count": 7,
   "metadata": {},
   "outputs": [],
   "source": [
    "\n",
    "#Inflate dataframe\n",
    "\n",
    "df = pd.DataFrame({'seq'  : emitted_seq,\n",
    "                    'mask'  : emitted_mask,\n",
    "                    'proximal_count'  : emitted_proximal_count,\n",
    "                    'distal_count'  : emitted_distal_count,\n",
    "                    'total_count'  : emitted_total_count,\n",
    "                    'library'  : emitted_lib,\n",
    "                    'library_index'  : emitted_lib_index,\n",
    "                    'sublibrary'  : emitted_sublib,\n",
    "                    'sublibrary_index'  : emitted_sublib_index\n",
    "                })\n"
   ]
  },
  {
   "cell_type": "code",
   "execution_count": 8,
   "metadata": {},
   "outputs": [],
   "source": [
    "\n",
    "#Simultaneously sort dataframe and cut matrices\n",
    "\n",
    "total_count = np.array(df['total_count'])\n",
    "sort_index = np.argsort(total_count)\n",
    "\n",
    "df = df.iloc[sort_index].reset_index(drop=True)\n",
    "proximal_cuts = proximal_cuts[sort_index]\n"
   ]
  },
  {
   "cell_type": "code",
   "execution_count": 9,
   "metadata": {},
   "outputs": [],
   "source": [
    "\n",
    "#Store dataframe and cut matrices\n",
    "\n",
    "df = df[['seq', 'mask', 'proximal_count', 'distal_count', 'total_count', 'library', 'library_index', 'sublibrary', 'sublibrary_index']]\n",
    "\n",
    "df.to_csv(library_name + '_' + library_version + '.csv', header=True, index=False, sep=',')\n",
    "\n",
    "spio.savemat(library_name + '_' + library_version + '_cuts', {'cuts' : proximal_cuts})\n"
   ]
  },
  {
   "cell_type": "code",
   "execution_count": 10,
   "metadata": {},
   "outputs": [
    {
     "name": "stdout",
     "output_type": "stream",
     "text": [
      "2373179\n"
     ]
    }
   ],
   "source": [
    "\n",
    "#Read dataframe and cut matrices\n",
    "folder_path = ''#'processed_data/unfiltered/'\n",
    "\n",
    "df = pd.read_csv(folder_path + library_name + '_' + library_version + '.csv', delimiter=',').reset_index(drop=True)\n",
    "\n",
    "proximal_cuts = spio.loadmat(folder_path + library_name + '_' + library_version + '_cuts.mat')['cuts']\n",
    "\n",
    "print(len(df))\n"
   ]
  },
  {
   "cell_type": "code",
   "execution_count": 11,
   "metadata": {},
   "outputs": [
    {
     "data": {
      "image/png": "[encoded data removed]",
      "text/plain": [
       "<Figure size 432x288 with 1 Axes>"
      ]
     },
     "metadata": {},
     "output_type": "display_data"
    }
   ],
   "source": [
    "plot_cut_2mers(df, proximal_cuts)"
   ]
  },
  {
   "cell_type": "code",
   "execution_count": 12,
   "metadata": {},
   "outputs": [
    {
     "name": "stdout",
     "output_type": "stream",
     "text": [
      "Read up to sequence: 0\n",
      "Read up to sequence: 100000\n",
      "Read up to sequence: 200000\n",
      "Read up to sequence: 300000\n",
      "Read up to sequence: 400000\n",
      "Read up to sequence: 500000\n",
      "Read up to sequence: 600000\n",
      "Read up to sequence: 700000\n",
      "Read up to sequence: 800000\n",
      "Read up to sequence: 900000\n",
      "Read up to sequence: 1000000\n",
      "Read up to sequence: 1100000\n",
      "Read up to sequence: 1200000\n",
      "Read up to sequence: 1300000\n",
      "Read up to sequence: 1400000\n",
      "Read up to sequence: 1500000\n",
      "Read up to sequence: 1600000\n",
      "Read up to sequence: 1700000\n",
      "Read up to sequence: 1800000\n",
      "Read up to sequence: 1900000\n",
      "Read up to sequence: 2000000\n",
      "Read up to sequence: 2100000\n",
      "Read up to sequence: 2200000\n",
      "Read up to sequence: 2300000\n",
      "1899451\n",
      "1899451\n"
     ]
    }
   ],
   "source": [
    "import regex as re\n",
    "\n",
    "#Filter dataframe and cut matrices\n",
    "\n",
    "misprime_regexes = [\n",
    "    re.compile(r\"N\"),\n",
    "    re.compile(r\"(AAAAAAAAAAAA){s<=2}\"),\n",
    "    re.compile(r\"(AAAAAAAAAAAAAAAA){s<=4}\"),\n",
    "    re.compile(r\"(AAAAAAAAAAAAAAAAAAAA){s<=5}\")\n",
    "]\n",
    "\n",
    "keep_index = []\n",
    "for index, row in df.iterrows() :\n",
    "    if index % 100000 == 0:\n",
    "        print(\"Read up to sequence: \" + str(index))\n",
    "    \n",
    "    curr_seq = row['seq']\n",
    "    curr_lib_index = row['library_index']\n",
    "    \n",
    "    internal_priming = False\n",
    "    if curr_lib_index != 35 :\n",
    "        for misprime_regex in misprime_regexes :\n",
    "            if re.search(misprime_regex, curr_seq) :\n",
    "                internal_priming = True\n",
    "                break\n",
    "    elif curr_lib_index == 35 and re.search(misprime_regexes[0], curr_seq) :\n",
    "        internal_priming = True\n",
    "\n",
    "    incorrect_pas = False\n",
    "    if curr_lib_index == 30 and curr_seq[70:76] != 'AATAAA' :\n",
    "        incorrect_pas = True\n",
    "    elif curr_lib_index == 31 and curr_seq[70:76] != 'CATAAA' :\n",
    "        incorrect_pas = True\n",
    "    elif curr_lib_index == 32 and curr_seq[70:76] != 'AATAAA' :\n",
    "        incorrect_pas = True\n",
    "    elif curr_lib_index == 33 and curr_seq[70:76] != 'AATAAA' :\n",
    "        incorrect_pas = True\n",
    "    elif curr_lib_index == 34 and curr_seq[70:76] != 'AATAAT' :\n",
    "        incorrect_pas = True\n",
    "    elif curr_lib_index == 35 and curr_seq[70:76] != 'AATAAA' :\n",
    "        incorrect_pas = True\n",
    "    \n",
    "    if not (internal_priming or incorrect_pas) :\n",
    "        keep_index.append(index)\n",
    "\n",
    "\n",
    "df_cleaned = df.iloc[keep_index].reset_index(drop=True)\n",
    "\n",
    "proximal_cuts_cleaned = proximal_cuts[keep_index]\n",
    "\n",
    "print(len(df_cleaned))\n",
    "print(proximal_cuts_cleaned.shape[0])\n"
   ]
  },
  {
   "cell_type": "code",
   "execution_count": 13,
   "metadata": {},
   "outputs": [],
   "source": [
    "#Store dataframe and cut matrices\n",
    "library_version = 'cleaned'\n",
    "\n",
    "df_cleaned = df_cleaned[['seq', 'mask', 'proximal_count', 'distal_count', 'total_count', 'library', 'library_index', 'sublibrary', 'sublibrary_index']]\n",
    "\n",
    "df_cleaned.to_csv(library_name + '_' + library_version + '.csv', header=True, index=False, sep=',')\n",
    "\n",
    "spio.savemat(library_name + '_' + library_version + '_cuts', {'cuts' : proximal_cuts_cleaned})"
   ]
  },
  {
   "cell_type": "code",
   "execution_count": 14,
   "metadata": {},
   "outputs": [
    {
     "name": "stdout",
     "output_type": "stream",
     "text": [
      "1899451\n"
     ]
    }
   ],
   "source": [
    "#Read dataframe and cut matrices\n",
    "library_version = 'cleaned'\n",
    "\n",
    "df_cleaned = pd.read_csv(library_name + '_' + library_version + '.csv', delimiter=',').reset_index(drop=True)\n",
    "\n",
    "proximal_cuts_cleaned = spio.loadmat(library_name + '_' + library_version + '_cuts.mat')['cuts']\n",
    "\n",
    "print(len(df_cleaned))"
   ]
  },
  {
   "cell_type": "code",
   "execution_count": 15,
   "metadata": {},
   "outputs": [
    {
     "data": {
      "image/png": "[encoded data removed]",
      "text/plain": [
       "<Figure size 432x288 with 1 Axes>"
      ]
     },
     "metadata": {},
     "output_type": "display_data"
    }
   ],
   "source": [
    "plot_cut_2mers(df_cleaned, proximal_cuts_cleaned)"
   ]
  },
  {
   "cell_type": "code",
   "execution_count": 16,
   "metadata": {},
   "outputs": [
    {
     "data": {
      "image/png": "[encoded data removed]",
      "text/plain": [
       "<Figure size 576x432 with 1 Axes>"
      ]
     },
     "metadata": {},
     "output_type": "display_data"
    }
   ],
   "source": [
    "\n",
    "proximal_profile = np.ravel(proximal_cuts_cleaned.sum(axis=0))\n",
    "\n",
    "f = plt.figure(figsize=(8, 6))\n",
    "\n",
    "plt.plot(np.arange(len(proximal_profile)), proximal_profile, c='darkgreen', linewidth=2)\n",
    "\n",
    "#Proximal 1\n",
    "plt.axvline(x=70, linewidth=2, c='black', linestyle='--')\n",
    "plt.axvline(x=70 + 6, linewidth=2, c='black', linestyle='--')\n",
    "plt.axvline(x=70 + 21, linewidth=2, c='orange', linestyle='--')\n",
    "\n",
    "\n",
    "plt.xticks(fontsize=14)\n",
    "plt.yticks(fontsize=14)\n",
    "plt.xlabel('Position', fontsize=16)\n",
    "plt.ylabel('Read count', fontsize=16)\n",
    "plt.title('Proximal site', fontsize=16)\n",
    "plt.tight_layout()\n",
    "\n",
    "plt.show()\n"
   ]
  },
  {
   "cell_type": "code",
   "execution_count": 17,
   "metadata": {},
   "outputs": [
    {
     "name": "stdout",
     "output_type": "stream",
     "text": [
      "1398135\n",
      "1398135\n"
     ]
    }
   ],
   "source": [
    "\n",
    "#Filter final version on read count\n",
    "\n",
    "total_count = np.array(df_cleaned['total_count'])\n",
    "filter_index = np.nonzero(total_count >= 10)[0]\n",
    "\n",
    "df_final = df_cleaned.iloc[filter_index].reset_index(drop=True)\n",
    "proximal_cuts_final = proximal_cuts_cleaned[filter_index]\n",
    "\n",
    "print(len(df_final))\n",
    "print(proximal_cuts_final.shape[0])\n"
   ]
  },
  {
   "cell_type": "code",
   "execution_count": 18,
   "metadata": {},
   "outputs": [],
   "source": [
    "#Store dataframe and cut matrices\n",
    "library_version = 'final'\n",
    "\n",
    "df_final = df_final[['seq', 'mask', 'proximal_count', 'distal_count', 'total_count', 'library', 'library_index', 'sublibrary', 'sublibrary_index']]\n",
    "\n",
    "df_final.to_csv(library_name + '_' + library_version + '.csv', header=True, index=False, sep=',')\n",
    "\n",
    "spio.savemat(library_name + '_' + library_version + '_cuts', {'cuts' : proximal_cuts_final})"
   ]
  },
  {
   "cell_type": "code",
   "execution_count": 19,
   "metadata": {},
   "outputs": [
    {
     "data": {
      "image/png": "[encoded data removed]",
      "text/plain": [
       "<Figure size 432x288 with 1 Axes>"
      ]
     },
     "metadata": {},
     "output_type": "display_data"
    }
   ],
   "source": [
    "plot_cut_2mers(df_final, proximal_cuts_final)"
   ]
  },
  {
   "cell_type": "code",
   "execution_count": null,
   "metadata": {},
   "outputs": [],
   "source": []
  }
 ],
 "metadata": {
  "kernelspec": {
   "display_name": "Python [conda env:tensorflow]",
   "language": "python",
   "name": "conda-env-tensorflow-py"
  },
  "language_info": {
   "codemirror_mode": {
    "name": "ipython",
    "version": 3
   },
   "file_extension": ".py",
   "mimetype": "text/x-python",
   "name": "python",
   "nbconvert_exporter": "python",
   "pygments_lexer": "ipython3",
   "version": "3.6.5"
  }
 },
 "nbformat": 4,
 "nbformat_minor": 2
}
