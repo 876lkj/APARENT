{
 "cells": [
  {
   "cell_type": "code",
   "execution_count": 1,
   "metadata": {},
   "outputs": [
    {
     "name": "stderr",
     "output_type": "stream",
     "text": [
      "Using TensorFlow backend.\n"
     ]
    }
   ],
   "source": [
    "from __future__ import print_function\n",
    "import keras\n",
    "from keras.models import Sequential, Model, load_model\n",
    "import keras.backend as K\n",
    "\n",
    "import tensorflow as tf\n",
    "\n",
    "import pandas as pd\n",
    "\n",
    "import os\n",
    "import pickle\n",
    "import numpy as np\n",
    "\n",
    "import scipy.sparse as sp\n",
    "import scipy.io as spio\n",
    "\n",
    "import isolearn.io as isoio\n",
    "\n",
    "from scipy.stats import pearsonr\n",
    "\n",
    "import matplotlib.pyplot as plt\n",
    "\n",
    "import matplotlib.cm as cm\n",
    "import matplotlib.colors as colors\n",
    "\n",
    "import matplotlib as mpl\n",
    "from matplotlib.text import TextPath\n",
    "from matplotlib.patches import PathPatch, Rectangle\n",
    "from matplotlib.font_manager import FontProperties\n",
    "from matplotlib import gridspec\n",
    "from matplotlib.ticker import FormatStrFormatter\n",
    "\n",
    "from aparent.data.aparent_data_plasmid_legacy import load_data\n",
    "\n",
    "from analyze_aparent_conv_layers_helpers import *\n"
   ]
  },
  {
   "cell_type": "code",
   "execution_count": 49,
   "metadata": {},
   "outputs": [
    {
     "name": "stdout",
     "output_type": "stream",
     "text": [
      "Training set size = 541450\n",
      "Validation set size = 1000\n",
      "Test set size = 60000\n"
     ]
    }
   ],
   "source": [
    "#Load random MPRA data\n",
    "\n",
    "file_path = '../data/random_mpra_legacy/combined_library/processed_data_lifted/'\n",
    "plasmid_gens = load_data(batch_size=32, valid_set_size=1000, test_set_size=60000, kept_libraries=[20], file_path=file_path)\n"
   ]
  },
  {
   "cell_type": "code",
   "execution_count": 50,
   "metadata": {},
   "outputs": [],
   "source": [
    "#Re-shuffle test set index\n",
    "\n",
    "plasmid_index = np.arange(len(plasmid_gens['all'].sources['df']), dtype=np.int)\n",
    "np.random.shuffle(plasmid_index)\n",
    "\n",
    "plasmid_gens['test'].data_ids = plasmid_index[:60000]\n"
   ]
  },
  {
   "cell_type": "code",
   "execution_count": 51,
   "metadata": {},
   "outputs": [],
   "source": [
    "#Load legacy APARENT model (lifted from theano)\n",
    "\n",
    "model_name = 'aparent_theano_legacy_30_31_34'#_pasaligned\n",
    "\n",
    "save_dir = os.path.join(os.getcwd(), '../aparent/saved_models/legacy_models')\n",
    "model_path = os.path.join(save_dir, model_name + '.h5')\n",
    "\n",
    "aparent_model = load_model(model_path)"
   ]
  },
  {
   "cell_type": "code",
   "execution_count": 52,
   "metadata": {},
   "outputs": [],
   "source": [
    "#Create a new model that outputs the conv layer activation maps together with the isoform proportion\n",
    "conv_layer_iso_model = Model(\n",
    "    inputs = aparent_model.inputs,\n",
    "    outputs = [\n",
    "        aparent_model.get_layer('iso_conv_layer_1').output,\n",
    "        aparent_model.get_layer('iso_out_layer_1').output\n",
    "    ]\n",
    ")"
   ]
  },
  {
   "cell_type": "code",
   "execution_count": 53,
   "metadata": {},
   "outputs": [],
   "source": [
    "#Predict from test data generator\n",
    "iso_conv_1_out, iso_pred = conv_layer_iso_model.predict_generator(plasmid_gens['test'], workers=4, use_multiprocessing=True)\n",
    "\n",
    "iso_conv_1_out = np.reshape(iso_conv_1_out, (iso_conv_1_out.shape[0], iso_conv_1_out.shape[1], iso_conv_1_out.shape[2]))\n",
    "\n",
    "iso_pred = np.ravel(iso_pred[:, 1])\n",
    "\n",
    "#Retrieve one-hot input sequences\n",
    "onehot_seqs = np.concatenate([plasmid_gens['test'][i][0][0][:, 0, :, :] for i in range(len(plasmid_gens['test']))], axis=0)\n"
   ]
  },
  {
   "cell_type": "code",
   "execution_count": 54,
   "metadata": {},
   "outputs": [],
   "source": [
    "#Mask for doubledope library (Alien1)\n",
    "mask_seq = ('X' * (25 - 1 - 7)) + ('N' * (71 + 7)) + ('X' * (14 - 7)) + ('N' * (71 + 7 - 2))\n",
    "\n",
    "for j in range(len(mask_seq)) :\n",
    "    if mask_seq[j] == 'X' :\n",
    "        iso_conv_1_out[:, :, j] = 0\n"
   ]
  },
  {
   "cell_type": "code",
   "execution_count": 55,
   "metadata": {},
   "outputs": [],
   "source": [
    "#Layer 1: Compute Scaled Activation PWMs\n",
    "filter_width = 8\n",
    "pseudo_count = 1.0\n",
    "\n",
    "pwms = np.zeros((iso_conv_1_out.shape[1], filter_width, 4))\n",
    "\n",
    "for k in range(iso_conv_1_out.shape[1]) :\n",
    "    \n",
    "    for i in range(iso_conv_1_out.shape[0]) :\n",
    "        max_j = np.argmax(iso_conv_1_out[i, k, :])\n",
    "        if iso_conv_1_out[i, k, max_j] > 0 :\n",
    "            pwms[k, :, :] += onehot_seqs[i, max_j: max_j+filter_width, :] * iso_conv_1_out[i, k, max_j]#np.exp(iso_conv_1_out[i, k, max_j])\n",
    "    \n",
    "    pwms[k, :, :] += pseudo_count\n",
    "    pwms[k, :, :] /= np.expand_dims(np.sum(pwms[k, :, :], axis=-1), axis=-1)\n"
   ]
  },
  {
   "cell_type": "code",
   "execution_count": 56,
   "metadata": {},
   "outputs": [],
   "source": [
    "def plot_pwm_logo(pwm, figsize=(6, 4)) :\n",
    "    f = plt.figure(figsize=figsize)\n",
    "    \n",
    "    #Make sequence logo\n",
    "    entropy = np.zeros(pwm.shape)\n",
    "    entropy[pwm > 0] = pwm[pwm > 0] * -np.log2(pwm[pwm > 0])\n",
    "    entropy = np.sum(entropy, axis=1)\n",
    "    conservation = 2 - entropy\n",
    "\n",
    "    height_base = 0.0\n",
    "    logo_height = 1.0\n",
    "    \n",
    "    logo_ax = plt.gca()\n",
    "    \n",
    "    for j in range(pwm.shape[0]) :\n",
    "        sort_index = np.argsort(pwm[j, :])\n",
    "\n",
    "        for ii in range(0, 4) :\n",
    "            i = sort_index[ii]\n",
    "\n",
    "            nt_prob = pwm[j, i] * conservation[j]\n",
    "\n",
    "            nt = ''\n",
    "            if i == 0 :\n",
    "                nt = 'A'\n",
    "            elif i == 1 :\n",
    "                nt = 'C'\n",
    "            elif i == 2 :\n",
    "                nt = 'G'\n",
    "            elif i == 3 :\n",
    "                nt = 'T'\n",
    "\n",
    "            if ii == 0 :\n",
    "                letterAt(nt, j + 0.5, height_base, nt_prob * logo_height, logo_ax, color=None)\n",
    "            else :\n",
    "                prev_prob = np.sum(pwm[j, sort_index[:ii]] * conservation[j]) * logo_height\n",
    "                letterAt(nt, j + 0.5, height_base + prev_prob, nt_prob * logo_height, logo_ax, color=None)\n",
    "\n",
    "    plt.xlim((0, pwm.shape[0]))\n",
    "    plt.ylim((0, 2))\n",
    "    plt.xticks([], [])\n",
    "    plt.yticks([], [])\n",
    "    plt.axis('off')\n",
    "    logo_ax.axhline(y=0.01 + height_base, color='black', linestyle='-', linewidth=2)\n",
    "    \n",
    "    plt.tight_layout()\n",
    "    plt.show()\n",
    "\n",
    "\n",
    "def get_nmers(n_mer_len) :\n",
    "\n",
    "    if n_mer_len == 0 :\n",
    "        return []\n",
    "\n",
    "    if n_mer_len == 1 :\n",
    "        return ['A', 'C', 'G', 'T']\n",
    "\n",
    "    n_mers = []\n",
    "\n",
    "    prev_n_mers = get_nmers(n_mer_len - 1)\n",
    "\n",
    "    for _, prev_n_mer in enumerate(prev_n_mers) :\n",
    "        for _, nt in enumerate(['A', 'C', 'G', 'T']) :\n",
    "            n_mers.append(prev_n_mer + nt)\n",
    "\n",
    "    return n_mers\n",
    "\n",
    "def plot_pwm_logprob_motifs(pwm, n=10, seq_start=0, seq_end=8, figsize=(4, 8)) :\n",
    "    pwm = pwm[seq_start:seq_end, :]\n",
    "    \n",
    "    #Get nmers\n",
    "    nmers = np.array(get_nmers(pwm.shape[0]), dtype=np.object)\n",
    "    \n",
    "    #Score nmers\n",
    "    nmer_scores = np.zeros(nmers.shape[0])\n",
    "    for i in range(nmers.shape[0]) :\n",
    "        score = 0\n",
    "        nmer = nmers[i]\n",
    "        for j in range(len(nmer)) :\n",
    "            if nmer[j] == 'A' :\n",
    "                score += np.log(pwm[j, 0])\n",
    "            elif nmer[j] == 'C' :\n",
    "                score += np.log(pwm[j, 1])\n",
    "            elif nmer[j] == 'G' :\n",
    "                score += np.log(pwm[j, 2])\n",
    "            elif nmer[j] == 'T' :\n",
    "                score += np.log(pwm[j, 3])\n",
    "        nmer_scores[i] = score\n",
    "    \n",
    "    #Sort scores and pick top selection\n",
    "    sort_index = np.argsort(nmer_scores)[::-1][:n]\n",
    "    nmers = nmers[sort_index]\n",
    "    nmer_scores = nmer_scores[sort_index]\n",
    "    \n",
    "    f = plt.figure(figsize=figsize)\n",
    "    \n",
    "    plt.imshow(nmer_scores.reshape(-1, 1), cmap='Reds', vmin=np.min(nmer_scores), vmax=np.max(nmer_scores))\n",
    "    plt.xticks([], [])\n",
    "    plt.yticks(np.arange(nmer_scores.shape[0]), [nmer + ' ' + str(round(score, 2)) for nmer, score in zip(nmers, nmer_scores)], fontsize=14)\n",
    "    \n",
    "    plt.tight_layout()\n",
    "    plt.show()\n",
    "    \n"
   ]
  },
  {
   "cell_type": "code",
   "execution_count": 57,
   "metadata": {},
   "outputs": [
    {
     "data": {
      "image/png": "[encoded data removed]",
      "text/plain": [
       "<Figure size 432x288 with 1 Axes>"
      ]
     },
     "metadata": {},
     "output_type": "display_data"
    },
    {
     "data": {
      "image/png": "[encoded data removed]",
      "text/plain": [
       "<Figure size 288x576 with 1 Axes>"
      ]
     },
     "metadata": {
      "needs_background": "light"
     },
     "output_type": "display_data"
    }
   ],
   "source": [
    "#Plot Scaled Activation PWM of CSE Hexamer filter (Filter 6, as identified in the Max Activation PWM script)\n",
    "\n",
    "plot_pwm_logo(pwms[6], figsize=(6, 4))\n",
    "\n",
    "plot_pwm_logprob_motifs(pwms[6], n=10, seq_start=1, seq_end=7, figsize=(4, 8))\n"
   ]
  },
  {
   "cell_type": "code",
   "execution_count": null,
   "metadata": {},
   "outputs": [],
   "source": []
  }
 ],
 "metadata": {
  "kernelspec": {
   "display_name": "Python [conda env:aparent]",
   "language": "python",
   "name": "conda-env-aparent-py"
  },
  "language_info": {
   "codemirror_mode": {
    "name": "ipython",
    "version": 3
   },
   "file_extension": ".py",
   "mimetype": "text/x-python",
   "name": "python",
   "nbconvert_exporter": "python",
   "pygments_lexer": "ipython3",
   "version": "3.6.8"
  }
 },
 "nbformat": 4,
 "nbformat_minor": 2
}
