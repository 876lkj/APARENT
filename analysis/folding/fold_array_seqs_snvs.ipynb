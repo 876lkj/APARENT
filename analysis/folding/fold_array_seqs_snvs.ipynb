{
 "cells": [
  {
   "cell_type": "code",
   "execution_count": 20,
   "metadata": {},
   "outputs": [],
   "source": [
    "import sys\n",
    "sys.path.append('/home/jlinder2/multistrand')\n",
    "\n",
    "import nupack\n",
    "\n",
    "import pandas as pd\n",
    "import numpy as np\n",
    "\n",
    "def get_struct(seq, temperature=25) :\n",
    "    return nupack.mfe([seq], T=temperature, material='rna', sodium=0.05, magnesium=0.002)[0][0]\n",
    "\n",
    "def get_mfe(seq, temperature=25) :\n",
    "    return float(nupack.mfe([seq], T=temperature, material='rna', sodium=0.05, magnesium=0.002)[0][1])"
   ]
  },
  {
   "cell_type": "code",
   "execution_count": 2,
   "metadata": {},
   "outputs": [],
   "source": [
    "seq_df = pd.read_csv('array_maxcut_snv_seqs.csv', sep=',')"
   ]
  },
  {
   "cell_type": "code",
   "execution_count": 3,
   "metadata": {},
   "outputs": [
    {
     "name": "stdout",
     "output_type": "stream",
     "text": [
      "Folding sequence 0\n",
      "Folding sequence 1000\n",
      "Folding sequence 2000\n"
     ]
    }
   ],
   "source": [
    "\n",
    "mfes = []\n",
    "mfes_w_pas = []\n",
    "structs = []\n",
    "structs_w_pas = []\n",
    "\n",
    "for index, row in seq_df.iterrows() :\n",
    "    if index % 1000 == 0 :\n",
    "        print('Folding sequence ' + str(index))\n",
    "    \n",
    "    seq = row['master_seq']\n",
    "    fold_pos = row['fold_pos']\n",
    "    \n",
    "    struct = get_struct(seq[56:fold_pos])\n",
    "    struct_w_pas = get_struct(seq[50:fold_pos])\n",
    "    mfe = get_mfe(seq[56:fold_pos])\n",
    "    mfe_w_pas = get_mfe(seq[50:fold_pos])\n",
    "    \n",
    "    mfes.append(mfe)\n",
    "    mfes_w_pas.append(mfe)\n",
    "    structs.append(struct)\n",
    "    structs_w_pas.append(struct_w_pas)\n",
    "\n",
    "seq_df['mfe_w_pas'] = mfes_w_pas\n",
    "seq_df['mfe'] = mfes\n",
    "seq_df['struct'] = structs\n",
    "seq_df['struct_w_pas'] = structs_w_pas"
   ]
  },
  {
   "cell_type": "code",
   "execution_count": 4,
   "metadata": {},
   "outputs": [],
   "source": [
    "seq_df.to_csv('array_maxcut_snv_seqs_folded.csv', sep=',', index=False)"
   ]
  },
  {
   "cell_type": "code",
   "execution_count": 2,
   "metadata": {},
   "outputs": [],
   "source": [
    "df_var = pd.read_csv('array_cut_var_seqs.csv', sep=',')"
   ]
  },
  {
   "cell_type": "code",
   "execution_count": 30,
   "metadata": {},
   "outputs": [
    {
     "name": "stdout",
     "output_type": "stream",
     "text": [
      "Folding sequence 0\n",
      "Folding sequence 1000\n",
      "Folding sequence 2000\n",
      "Folding sequence 3000\n",
      "Folding sequence 4000\n",
      "Folding sequence 5000\n",
      "Folding sequence 6000\n",
      "Folding sequence 7000\n",
      "Folding sequence 8000\n",
      "Folding sequence 9000\n",
      "Folding sequence 10000\n"
     ]
    }
   ],
   "source": [
    "mfes_var = []\n",
    "structs_var = []\n",
    "\n",
    "mfes_ref = []\n",
    "structs_ref = []\n",
    "\n",
    "for index, row in df_var.iterrows() :\n",
    "    if index % 1000 == 0 :\n",
    "        print('Folding sequence ' + str(index))\n",
    "    \n",
    "    var_seq = row['master_seq']\n",
    "    ref_seq = row['wt_seq']\n",
    "    \n",
    "    struct_var = get_struct(var_seq[50:130].replace('T', 'U'))\n",
    "    struct_ref = get_struct(ref_seq[50:130].replace('T', 'U'))\n",
    "    mfe_var = get_mfe(var_seq[50:130].replace('T', 'U'))\n",
    "    mfe_ref = get_mfe(ref_seq[50:130].replace('T', 'U'))\n",
    "    \n",
    "    mfes_var.append(mfe_var)\n",
    "    mfes_ref.append(mfe_ref)\n",
    "    structs_var.append(struct_var)\n",
    "    structs_ref.append(struct_ref)\n",
    "\n",
    "df_var['mfe_var'] = mfes_var\n",
    "df_var['mfe_wt'] = mfes_ref\n",
    "df_var['struct_var'] = structs_var\n",
    "df_var['struct_wt'] = structs_ref"
   ]
  },
  {
   "cell_type": "code",
   "execution_count": 31,
   "metadata": {},
   "outputs": [],
   "source": [
    "df_var['delta_mfe'] = df_var['mfe_var'] - df_var['mfe_wt']"
   ]
  },
  {
   "cell_type": "code",
   "execution_count": 32,
   "metadata": {},
   "outputs": [],
   "source": [
    "df_var.to_csv('array_cut_var_seqs_folded_long.csv', sep=',')"
   ]
  },
  {
   "cell_type": "code",
   "execution_count": null,
   "metadata": {},
   "outputs": [],
   "source": []
  }
 ],
 "metadata": {
  "kernelspec": {
   "display_name": "Python 2",
   "language": "python",
   "name": "python2"
  },
  "language_info": {
   "codemirror_mode": {
    "name": "ipython",
    "version": 2
   },
   "file_extension": ".py",
   "mimetype": "text/x-python",
   "name": "python",
   "nbconvert_exporter": "python",
   "pygments_lexer": "ipython2",
   "version": "2.7.6"
  }
 },
 "nbformat": 4,
 "nbformat_minor": 2
}
