{
 "cells": [
  {
   "cell_type": "code",
   "execution_count": 1,
   "metadata": {},
   "outputs": [
    {
     "name": "stderr",
     "output_type": "stream",
     "text": [
      "Using TensorFlow backend.\n"
     ]
    }
   ],
   "source": [
    "from __future__ import print_function\n",
    "import keras\n",
    "from keras.models import Sequential, Model, load_model\n",
    "\n",
    "import tensorflow as tf\n",
    "\n",
    "import pandas as pd\n",
    "\n",
    "import os\n",
    "import pickle\n",
    "import numpy as np\n",
    "\n",
    "import scipy.sparse as sp\n",
    "import scipy.io as spio\n",
    "\n",
    "import isolearn.io as isoio\n",
    "import isolearn.keras as iso\n",
    "\n",
    "from aparent.data.aparent_data_native_pairs import load_data\n"
   ]
  },
  {
   "cell_type": "code",
   "execution_count": 2,
   "metadata": {},
   "outputs": [
    {
     "name": "stdout",
     "output_type": "stream",
     "text": [
      "Pair-wise Native APA (APADB + Leslie) size = 29756\n",
      "Training set size = 0\n",
      "Validation set size = 0\n",
      "Test set size = 29756\n"
     ]
    }
   ],
   "source": [
    "#Load native pair-wise APA data\n",
    "\n",
    "file_path = '../../data/prepared_data/apa_leslie_apadb_pair_data/'\n",
    "native_gens = load_data(batch_size=1, file_path=file_path)\n"
   ]
  },
  {
   "cell_type": "code",
   "execution_count": 3,
   "metadata": {},
   "outputs": [],
   "source": [
    "#Load APADB-tuned APARENT model\n",
    "\n",
    "model_name = 'aparent_apadb_fitted'\n",
    "\n",
    "save_dir = os.path.join(os.getcwd(), '../../aparent/saved_models')\n",
    "model_path = os.path.join(save_dir, model_name + '.h5')\n",
    "\n",
    "apadb_model = load_model(model_path)\n"
   ]
  },
  {
   "cell_type": "code",
   "execution_count": 4,
   "metadata": {},
   "outputs": [],
   "source": [
    "#Predict from test data generator\n",
    "\n",
    "iso_pred, cut_prox, cut_dist = apadb_model.predict_generator(native_gens['all'], workers=4, use_multiprocessing=True)\n",
    "\n",
    "#Calculate isoform logits\n",
    "iso_pred = np.ravel(iso_pred)\n",
    "logodds_pred = np.log(iso_pred / (1. - iso_pred))\n"
   ]
  },
  {
   "cell_type": "code",
   "execution_count": 5,
   "metadata": {},
   "outputs": [],
   "source": [
    "#Copy the test set dataframe and store isoform predictions\n",
    "\n",
    "native_df = native_gens['all'].sources['df'].reset_index().copy()\n",
    "\n",
    "native_df['iso_pred'] = iso_pred\n",
    "native_df['logodds_pred'] = logodds_pred\n",
    "\n",
    "native_df = native_df[['gene_id', 'iso_pred', 'logodds_pred']]\n"
   ]
  },
  {
   "cell_type": "code",
   "execution_count": 6,
   "metadata": {},
   "outputs": [],
   "source": [
    "#Dump prediction dataframe and cut probability matrices\n",
    "\n",
    "isoio.dump({'native_df' : native_df, 'cut_prox' : sp.csr_matrix(cut_prox), 'cut_dist' : sp.csr_matrix(cut_dist)}, 'apa_leslie_apadb_pair_data/' + model_name + '_predictions')"
   ]
  },
  {
   "cell_type": "code",
   "execution_count": null,
   "metadata": {},
   "outputs": [],
   "source": []
  }
 ],
 "metadata": {
  "kernelspec": {
   "display_name": "Python [conda env:tensorflow]",
   "language": "python",
   "name": "conda-env-tensorflow-py"
  },
  "language_info": {
   "codemirror_mode": {
    "name": "ipython",
    "version": 3
   },
   "file_extension": ".py",
   "mimetype": "text/x-python",
   "name": "python",
   "nbconvert_exporter": "python",
   "pygments_lexer": "ipython3",
   "version": "3.6.8"
  }
 },
 "nbformat": 4,
 "nbformat_minor": 2
}
