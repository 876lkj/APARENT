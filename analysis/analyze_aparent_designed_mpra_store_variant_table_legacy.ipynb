{
 "cells": [
  {
   "cell_type": "code",
   "execution_count": 1,
   "metadata": {
    "nbpresent": {
     "id": "b58a0159-cecc-4d7a-ab65-b8d88e0a8929"
    }
   },
   "outputs": [],
   "source": [
    "import pandas as pd\n",
    "import scipy\n",
    "import numpy as np\n",
    "import scipy.sparse as sp\n",
    "import scipy.io as spio\n",
    "\n",
    "from scipy.stats import pearsonr\n",
    "\n",
    "import operator\n",
    "import matplotlib.pyplot as plt\n",
    "\n",
    "import matplotlib.cm as cm\n",
    "import matplotlib.colors as colors\n",
    "\n",
    "import matplotlib as mpl\n",
    "from matplotlib.text import TextPath\n",
    "from matplotlib.patches import PathPatch, Rectangle\n",
    "from matplotlib.font_manager import FontProperties\n",
    "from matplotlib import gridspec\n",
    "from matplotlib.ticker import FormatStrFormatter\n",
    "from sklearn.metrics import roc_auc_score\n",
    "\n",
    "import seaborn as sns\n",
    "import matplotlib.collections as collections\n",
    "\n",
    "import isolearn.io as isoio\n",
    "\n",
    "from analyze_aparent_designed_mpra_helpers import *\n"
   ]
  },
  {
   "cell_type": "markdown",
   "metadata": {},
   "source": [
    "<h2>Load collapsed designed MPRA data</h2>"
   ]
  },
  {
   "cell_type": "code",
   "execution_count": 2,
   "metadata": {},
   "outputs": [
    {
     "name": "stdout",
     "output_type": "stream",
     "text": [
      "n = 39833\n",
      "Avg read count (avg over barcodes) = 431.92676310713546\n",
      "Pooled read count (pooled over barcodes) = 3656.5562880452626\n",
      "n (variants) = 21734\n"
     ]
    }
   ],
   "source": [
    "#Load designed MPRA data (Collapsed over experiment replicates)\n",
    "seq_dict = isoio.load('../data/prepared_data/apa_array_data/apa_array_data_master_seq')\n",
    "print(\"n = \" + str(len(seq_dict['array_df'])))\n",
    "print('Avg read count (avg over barcodes) = ' + str(np.mean(seq_dict['array_df'].query(\"n_barcodes >= 2\")['mean_total_count'])))\n",
    "print('Pooled read count (pooled over barcodes) = ' + str(np.mean(seq_dict['array_df'].query(\"n_barcodes >= 2\")['pooled_total_count'])))\n",
    "\n",
    "#Load variant dataframe\n",
    "variant_dict = isoio.load('../data/prepared_data/apa_variant_data/apa_variant_data_master_seq')\n",
    "print(\"n (variants) = \" + str(len(variant_dict['variant_df'])))\n",
    "\n",
    "#Load predictions\n",
    "model_name = 'aparent_theano_legacy_30_31_34_pasaligned'\n",
    "pred_dict = isoio.load('predictions/apa_array_data_legacy/' + model_name + '_predictions_master_seq')\n",
    "\n",
    "#Join mpra dataframes with prediction table and calculate cut probabilities\n",
    "seq_df, variant_df = append_predictions(seq_dict['array_df'], seq_dict['pooled_cuts'], variant_dict['variant_df'], variant_dict['pooled_cuts_var'], variant_dict['pooled_cuts_ref'], pred_dict['array_df'], pred_dict['cut_prob'])\n"
   ]
  },
  {
   "cell_type": "markdown",
   "metadata": {
    "nbpresent": {
     "id": "26c9cd88-e244-4f85-9a96-e691bacc32b8"
    }
   },
   "source": [
    "<h2>Store final table of measured and predicted human APA variants</h2>"
   ]
  },
  {
   "cell_type": "code",
   "execution_count": 4,
   "metadata": {},
   "outputs": [],
   "source": [
    "#Filter on human variants\n",
    "included_experiments = ['acmg_apadb', 'acmg_polyadb', 'sensitive_genes', 'clinvar_wt', 'human_variant']\n",
    "\n",
    "filter_query = \"\"\n",
    "\n",
    "for exp_index, included_experiment in enumerate(included_experiments) :\n",
    "    filter_query += \"experiment == '\" + str(included_experiment) + \"'\"\n",
    "    if exp_index < len(included_experiments) - 1 :\n",
    "        filter_query += \" or \"\n",
    "\n",
    "human_variant_df = variant_df.query(filter_query).copy()\n",
    "human_variant_df['delta_logodds_pred'] = human_variant_df['mean_delta_logodds_pred']\n",
    "\n",
    "df_all_snvs = human_variant_df.query(\"variant == 'snv'\").copy().reset_index(drop=False).sort_values(by='delta_logodds_true', ascending=False)\n",
    "\n",
    "df_all_snvs = df_all_snvs[[\n",
    "    'gene',\n",
    "    'clinvar_id',\n",
    "    'significance',\n",
    "    'in_acmg',\n",
    "    'sitetype',\n",
    "    'wt_seq',\n",
    "    'master_seq',\n",
    "    'snv_pos',\n",
    "    'delta_logodds_true',\n",
    "    'delta_logodds_pred',\n",
    "    'delta_p_val'\n",
    "]]\n",
    "\n",
    "df_clinvar_snvs = df_all_snvs.query(\"significance != 'Missing'\")\n",
    "\n",
    "df_all_snvs.to_csv('predictions/apa_variant_mpra_all_snvs.csv', sep='\\t', index=False)\n",
    "df_clinvar_snvs.to_csv('predictions/apa_variant_mpra_clinvar_snvs.csv', sep='\\t', index=False)\n"
   ]
  },
  {
   "cell_type": "code",
   "execution_count": null,
   "metadata": {},
   "outputs": [],
   "source": []
  }
 ],
 "metadata": {
  "kernelspec": {
   "display_name": "Python [conda env:aparent]",
   "language": "python",
   "name": "conda-env-aparent-py"
  },
  "language_info": {
   "codemirror_mode": {
    "name": "ipython",
    "version": 3
   },
   "file_extension": ".py",
   "mimetype": "text/x-python",
   "name": "python",
   "nbconvert_exporter": "python",
   "pygments_lexer": "ipython3",
   "version": "3.6.8"
  }
 },
 "nbformat": 4,
 "nbformat_minor": 2
}
